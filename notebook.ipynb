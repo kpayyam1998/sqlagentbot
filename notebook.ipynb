{
 "cells": [
  {
   "cell_type": "code",
   "execution_count": 1,
   "metadata": {},
   "outputs": [
    {
     "data": {
      "text/plain": [
       "True"
      ]
     },
     "execution_count": 1,
     "metadata": {},
     "output_type": "execute_result"
    }
   ],
   "source": [
    "from langchain_openai import ChatOpenAI\n",
    "from langchain.tools import tool\n",
    "from langchain.prompts import ChatPromptTemplate\n",
    "\n",
    "from dotenv import load_dotenv\n",
    "\n",
    "load_dotenv()\n",
    "\n"
   ]
  },
  {
   "cell_type": "code",
   "execution_count": 2,
   "metadata": {},
   "outputs": [],
   "source": [
    "from langchain_openai import ChatOpenAI\n",
    "\n",
    "llm = ChatOpenAI(model=\"gpt-3.5-turbo\", temperature=0)"
   ]
  },
  {
   "cell_type": "code",
   "execution_count": 2,
   "metadata": {},
   "outputs": [],
   "source": [
    "from langchain.tools import tool\n",
    "from langchain_core.prompts import ChatPromptTemplate\n",
    "from langchain_openai import ChatOpenAI\n",
    "from dotenv import load_dotenv\n",
    "\n",
    "\n",
    "load_dotenv()\n",
    "\n",
    "llm = ChatOpenAI(\n",
    "    model=\"gpt-4o\",temperature=0.9,max_tokens=500\n",
    ")\n",
    "\n",
    "@tool\n",
    "def SqlQueryWritter(user_input : str)->str:\n",
    "    \"\"\"\n",
    "    A tool that generates SQL queries based on user input.\n",
    "    \"\"\"\n",
    "   \n",
    "    prompt = ChatPromptTemplate.from_messages(\n",
    "        [\n",
    "            (\"system\",\"you are an helpfull assistent to write the SQL Queries\"),\n",
    "        \n",
    "            (\"user\",\"{query}\")\n",
    "        ]\n",
    "    )\n",
    "\n",
    "    chain = prompt | llm \n",
    "\n",
    "    response = chain.invoke({\"query\":user_input})\n",
    "\n",
    "    return response.content\n",
    "\n",
    "\n",
    "\n",
    "@tool\n",
    "def SqlQuerySummarizer(user_input : str)->str:\n",
    "    \"\"\"\n",
    "    A tool that generates SQL queries based on user input.\n",
    "    \"\"\"\n",
    "    prompt = ChatPromptTemplate.from_messages(\n",
    "        [\n",
    "            (\"system\",\"you are an helpfull assistent , Summarize the SQL Queries\"),\n",
    "        \n",
    "            (\"user\",\"{query}\")\n",
    "        ]\n",
    "    )\n",
    "\n",
    "    chain = prompt | llm \n",
    "\n",
    "    response = chain.invoke({\"query\":user_input})\n",
    "\n",
    "    return response.content\n"
   ]
  },
  {
   "cell_type": "code",
   "execution_count": 3,
   "metadata": {},
   "outputs": [],
   "source": [
    "tools=[SqlQueryWritter,SqlQuerySummarizer]\n",
    "\n"
   ]
  },
  {
   "cell_type": "code",
   "execution_count": 25,
   "metadata": {},
   "outputs": [],
   "source": [
    "# Define the tools\n",
    "#tools = [SqlQueryWritter]\n",
    "from langchain.prompts import MessagesPlaceholder\n",
    "\n",
    "MEMORY_KEY = \"chat_history\"\n",
    "# Create the prompt for the agent\n",
    "prompt = ChatPromptTemplate.from_messages(\n",
    "    [\n",
    "        (\"system\", \"you are a helpful assistant to write queries or summarize queries\"),\n",
    "        (\"user\", \"{input}\"),\n",
    "        MessagesPlaceholder(variable_name=\"agent_scratchpad\")\n",
    "    ]\n",
    ")\n"
   ]
  },
  {
   "cell_type": "code",
   "execution_count": 8,
   "metadata": {},
   "outputs": [],
   "source": [
    "#from langchain.agents.initialize import initialize_agent\n",
    "#from langchain.agents import create_react_agent\n",
    "\n",
    "\n",
    "from langchain.agents import load_tools                                         \n",
    "from langchain.agents import initialize_agent\n",
    "# Create the agent using the tools\n",
    "#agent = create_react_agent(llm=llm, tools=tools, prompt=prompt)\n",
    "chat_history = []\n",
    "\n",
    "agent = initialize_agent(\n",
    "    tools=tools,\n",
    "    llm=llm,\n",
    "    prompt=prompt \n",
    ")\n"
   ]
  },
  {
   "cell_type": "code",
   "execution_count": 26,
   "metadata": {},
   "outputs": [],
   "source": [
    "from langchain.agents.format_scratchpad.openai_tools import (\n",
    "    format_to_openai_tool_messages,\n",
    ")\n",
    "from langchain.agents.output_parsers.openai_tools import OpenAIToolsAgentOutputParser\n",
    "llm_withtools=llm.bind_tools(tools)\n",
    "agent=(\n",
    "    {\n",
    "        \"input\": lambda x: x[\"input\"],\n",
    "        \"agent_scratchpad\": lambda x: format_to_openai_tool_messages(\n",
    "            x[\"intermediate_steps\"]\n",
    "        ),\n",
    "    }\n",
    "    | prompt\n",
    "    | llm_withtools\n",
    "    | OpenAIToolsAgentOutputParser()\n",
    ")"
   ]
  },
  {
   "cell_type": "code",
   "execution_count": 27,
   "metadata": {},
   "outputs": [],
   "source": [
    "from langchain.agents import AgentExecutor\n",
    "from langchain.memory import ConversationBufferWindowMemory\n",
    "#memory = ConversationBufferWindowMemory(memory_key=\"chat_history\",input_key=\"input\",output_key='output', return_messages=True, k=4)\n",
    "\n",
    "\n",
    "\n",
    "agent_executor = AgentExecutor(agent=agent, tools=tools)\n",
    "                               "
   ]
  },
  {
   "cell_type": "code",
   "execution_count": 29,
   "metadata": {},
   "outputs": [],
   "source": [
    "res=agent_executor.invoke({\"input\":\"top 20 records sql sql query\"})"
   ]
  },
  {
   "cell_type": "code",
   "execution_count": 32,
   "metadata": {},
   "outputs": [
    {
     "name": "stdout",
     "output_type": "stream",
     "text": [
      "To retrieve the top 20 records from a database table using SQL, you can use different SQL syntax depending on the database you are using. Here are some examples:\n",
      "\n",
      "### For MySQL, PostgreSQL, SQLite\n",
      "```sql\n",
      "SELECT *\n",
      "FROM your_table_name\n",
      "ORDER BY some_column\n",
      "LIMIT 20;\n",
      "```\n",
      "\n",
      "### For SQL Server\n",
      "```sql\n",
      "SELECT TOP 20 *\n",
      "FROM your_table_name\n",
      "ORDER BY some_column;\n",
      "```\n",
      "\n",
      "### For Oracle\n",
      "Oracle doesn't use `LIMIT` or `TOP`. Instead, you can use:\n",
      "\n",
      "#### Using `FETCH` Clause\n",
      "```sql\n",
      "SELECT *\n",
      "FROM your_table_name\n",
      "ORDER BY some_column\n",
      "FETCH FIRST 20 ROWS ONLY;\n",
      "```\n",
      "\n",
      "#### Using `ROWNUM`\n",
      "```sql\n",
      "SELECT *\n",
      "FROM (\n",
      "  SELECT *\n",
      "  FROM your_table_name\n",
      "  ORDER BY some_column\n",
      ")\n",
      "WHERE ROWNUM <= 20;\n",
      "```\n",
      "\n",
      "Ensure to replace `your_table_name` with the actual table name and `some_column` with the column you wish to order the records by. The `ORDER BY` clause is crucial to define which records are considered the \"top\" ones.\n"
     ]
    }
   ],
   "source": [
    "print(res[\"output\"])"
   ]
  },
  {
   "cell_type": "code",
   "execution_count": null,
   "metadata": {},
   "outputs": [],
   "source": []
  }
 ],
 "metadata": {
  "kernelspec": {
   "display_name": "RagLLM",
   "language": "python",
   "name": "python3"
  },
  "language_info": {
   "codemirror_mode": {
    "name": "ipython",
    "version": 3
   },
   "file_extension": ".py",
   "mimetype": "text/x-python",
   "name": "python",
   "nbconvert_exporter": "python",
   "pygments_lexer": "ipython3",
   "version": "3.10.15"
  }
 },
 "nbformat": 4,
 "nbformat_minor": 2
}
