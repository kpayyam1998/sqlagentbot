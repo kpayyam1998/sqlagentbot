{
 "cells": [
  {
   "cell_type": "markdown",
   "metadata": {},
   "source": [
    "## Custom Agent using langchain creation\n",
    "## Using OpenAI to make parallel Function calling\n",
    "\n",
    "In this notebook teach you how to create custom agent with different tools\n"
   ]
  },
  {
   "cell_type": "markdown",
   "metadata": {},
   "source": [
    "# Custom Tools creation using Langchain"
   ]
  },
  {
   "cell_type": "code",
   "execution_count": 1,
   "metadata": {},
   "outputs": [],
   "source": [
    "from langchain.tools import tool\n",
    "from langchain_core.prompts import ChatPromptTemplate\n",
    "from langchain_openai import ChatOpenAI\n",
    "from dotenv import load_dotenv\n",
    "\n",
    "\n",
    "load_dotenv()\n",
    "\n",
    "llm = ChatOpenAI(\n",
    "    model=\"gpt-4o\",temperature=0.9,max_tokens=500\n",
    ")\n",
    "\n",
    "@tool\n",
    "def SqlQueryWritter(user_input : str)->str:\n",
    "    \"\"\"\n",
    "    A tool that generates SQL queries based on user input.\n",
    "    \"\"\"\n",
    "   \n",
    "    prompt = ChatPromptTemplate.from_messages(\n",
    "        [\n",
    "            (\"system\",\"you are an helpfull assistent to write the SQL Queries\"),\n",
    "        \n",
    "            (\"user\",\"{query}\")\n",
    "        ]\n",
    "    )\n",
    "\n",
    "    chain = prompt | llm \n",
    "\n",
    "    response = chain.invoke({\"query\":user_input})\n",
    "\n",
    "    return response.content\n",
    "\n",
    "\n",
    "\n",
    "@tool\n",
    "def SqlQuerySummarizer(user_input : str)->str:\n",
    "    \"\"\"\n",
    "    A tool that generates SQL queries based on user input.\n",
    "    \"\"\"\n",
    "    prompt = ChatPromptTemplate.from_messages(\n",
    "        [\n",
    "            (\"system\",\"you are an helpfull assistent , Summarize the SQL Queries\"),\n",
    "        \n",
    "            (\"user\",\"{query}\")\n",
    "        ]\n",
    "    )\n",
    "\n",
    "    chain = prompt | llm \n",
    "\n",
    "    response = chain.invoke({\"query\":user_input})\n",
    "\n",
    "    return response.content\n"
   ]
  },
  {
   "cell_type": "code",
   "execution_count": 2,
   "metadata": {},
   "outputs": [],
   "source": [
    "tools=[SqlQueryWritter,SqlQuerySummarizer]\n"
   ]
  },
  {
   "cell_type": "code",
   "execution_count": 3,
   "metadata": {},
   "outputs": [],
   "source": [
    "# Define the tools\n",
    "#tools = [SqlQueryWritter]\n",
    "from langchain.prompts import MessagesPlaceholder\n",
    "\n",
    "MEMORY_KEY = \"chat_history\"\n",
    "# Create the prompt for the agent\n",
    "prompt = ChatPromptTemplate.from_messages(\n",
    "    [\n",
    "        (\"system\", \"you are a helpful assistant to write queries or summarize queries\"),\n",
    "        (\"user\", \"{input}\"),\n",
    "        MessagesPlaceholder(variable_name=\"agent_scratchpad\")\n",
    "    ]\n",
    ")\n"
   ]
  },
  {
   "cell_type": "code",
   "execution_count": 8,
   "metadata": {},
   "outputs": [],
   "source": [
    "# Optional \n",
    "\n",
    "from langchain.agents import load_tools                                         \n",
    "from langchain.agents import initialize_agent\n",
    "\n",
    "chat_history = []\n",
    "\n",
    "agent = initialize_agent(\n",
    "    tools=tools,\n",
    "    llm=llm,\n",
    "    prompt=prompt \n",
    ")\n"
   ]
  },
  {
   "cell_type": "code",
   "execution_count": 4,
   "metadata": {},
   "outputs": [],
   "source": [
    "from langchain.agents.format_scratchpad.openai_tools import (\n",
    "    format_to_openai_tool_messages,\n",
    ")\n",
    "from langchain.agents.output_parsers.openai_tools import OpenAIToolsAgentOutputParser\n",
    "llm_withtools=llm.bind_tools(tools)\n",
    "agent=(\n",
    "    {\n",
    "        \"input\": lambda x: x[\"input\"],\n",
    "        \"agent_scratchpad\": lambda x: format_to_openai_tool_messages(\n",
    "            x[\"intermediate_steps\"]\n",
    "        ),\n",
    "    }\n",
    "    | prompt\n",
    "    | llm_withtools\n",
    "    | OpenAIToolsAgentOutputParser()\n",
    ")"
   ]
  },
  {
   "cell_type": "code",
   "execution_count": 5,
   "metadata": {},
   "outputs": [],
   "source": [
    "from langchain.agents import AgentExecutor\n",
    "from langchain.memory import ConversationBufferWindowMemory\n",
    "#memory = ConversationBufferWindowMemory(memory_key=\"chat_history\",input_key=\"input\",output_key='output', return_messages=True, k=4)\n",
    "\n",
    "\n",
    "agent_executor = AgentExecutor(agent=agent, tools=tools)\n",
    "                               "
   ]
  },
  {
   "cell_type": "code",
   "execution_count": 6,
   "metadata": {},
   "outputs": [],
   "source": [
    "res=agent_executor.invoke({\"input\":\"top 20 records sql sql query\"})"
   ]
  },
  {
   "cell_type": "code",
   "execution_count": 7,
   "metadata": {},
   "outputs": [
    {
     "name": "stdout",
     "output_type": "stream",
     "text": [
      "To retrieve the top 20 records from a table in SQL, you can use the `LIMIT` clause in SQL. However, the syntax might vary slightly depending on the database system you are using. Here are examples for a few common SQL databases:\n",
      "\n",
      "### MySQL, PostgreSQL, SQLite:\n",
      "```sql\n",
      "SELECT *\n",
      "FROM your_table_name\n",
      "ORDER BY some_column\n",
      "LIMIT 20;\n",
      "```\n",
      "\n",
      "### SQL Server:\n",
      "```sql\n",
      "SELECT TOP 20 *\n",
      "FROM your_table_name\n",
      "ORDER BY some_column;\n",
      "```\n",
      "\n",
      "### Oracle:\n",
      "In Oracle, you can use the `FETCH FIRST` clause (available in Oracle 12c and later):\n",
      "\n",
      "```sql\n",
      "SELECT *\n",
      "FROM your_table_name\n",
      "ORDER BY some_column\n",
      "FETCH FIRST 20 ROWS ONLY;\n",
      "```\n",
      "\n",
      "Or use a subquery with `ROWNUM`:\n",
      "\n",
      "```sql\n",
      "SELECT *\n",
      "FROM (\n",
      "    SELECT *\n",
      "    FROM your_table_name\n",
      "    ORDER BY some_column\n",
      ")\n",
      "WHERE ROWNUM <= 20;\n",
      "```\n",
      "\n",
      "### Notes:\n",
      "- Replace `your_table_name` with the name of your table.\n",
      "- Replace `some_column` with the column you want to sort by if ordering is necessary; otherwise, you can leave out the `ORDER BY` clause if the order of records doesn't matter to you. However, most SQL databases require an `ORDER BY` clause when using limit-based statements to define a specific order for the results.\n"
     ]
    }
   ],
   "source": [
    "print(res[\"output\"])"
   ]
  },
  {
   "cell_type": "markdown",
   "metadata": {},
   "source": [
    "## Vector DB\n"
   ]
  },
  {
   "cell_type": "code",
   "execution_count": 8,
   "metadata": {},
   "outputs": [],
   "source": [
    "\n",
    "from langchain_community.document_loaders import UnstructuredURLLoader\n",
    "from langchain.text_splitter import RecursiveCharacterTextSplitter\n",
    "from langchain_openai import OpenAIEmbeddings\n",
    "from langchain_community.vectorstores import FAISS\n",
    "\n",
    "# Load url\n",
    "loaders=UnstructuredURLLoader(urls=[\n",
    "    \"https://www.icicibank.com/personal-banking/cards/credit-card\",\n",
    "    \"https://www.hdfcbank.com/personal/pay/cards/credit-cards\",\n",
    "])\n",
    "\n",
    "data=loaders.load()\n",
    "\n",
    "# splitting chunkingour data\n",
    "text_splitter = RecursiveCharacterTextSplitter(\n",
    "    chunk_size=1000,\n",
    "    chunk_overlap=0\n",
    ")\n",
    "docs=text_splitter.split_documents(data)\n",
    "\n",
    "# OpenAI embeddings\n",
    "embeddings = OpenAIEmbeddings()\n",
    "\n",
    "# Vector index creation with FAISS\n",
    "vector_index=FAISS.from_documents(docs,embeddings)\n",
    "\n",
    "# Save vector index locally\n",
    "vector_index.save_local(\"credicard\")\n",
    "\n",
    "\n"
   ]
  },
  {
   "cell_type": "markdown",
   "metadata": {},
   "source": [
    "## Load Vector DB"
   ]
  },
  {
   "cell_type": "code",
   "execution_count": 9,
   "metadata": {},
   "outputs": [],
   "source": [
    "from langchain.chains import RetrievalQAWithSourcesChain\n",
    "from langchain_openai import OpenAI\n",
    "\n",
    "# Load Vector\n",
    "vectordb=FAISS.load_local(\"credicard\",OpenAIEmbeddings(),allow_dangerous_deserialization=True)\n",
    "# retriever\n",
    "retrieverdb=vectordb.as_retriever(search_kwargs={'k': 2})\n",
    "\n",
    "llm = OpenAI(temperature=0.9,max_tokens=400)\n",
    "\n",
    "# Create chain\n",
    "chain=RetrievalQAWithSourcesChain.from_chain_type(OpenAI(temperature=0), chain_type=\"stuff\", retriever=retrieverdb)\n",
    "\n"
   ]
  },
  {
   "cell_type": "code",
   "execution_count": 36,
   "metadata": {},
   "outputs": [],
   "source": [
    "response=chain.invoke({\n",
    "    \"question\": \"Pixel Play Credit Card The Born Digital Range of Credit Cards? provide benifits?\"\n",
    "})"
   ]
  },
  {
   "cell_type": "code",
   "execution_count": 37,
   "metadata": {},
   "outputs": [
    {
     "data": {
      "text/plain": [
       "{'question': 'Pixel Play Credit Card The Born Digital Range of Credit Cards? provide benifits?',\n",
       " 'answer': \" The Pixel Play Credit Card from HDFC Bank's Born Digital Range of Credit Cards provides benefits such as 5% cashback on select categories, 3% cashback on a choice of one e-commerce merchant, and 1% unlimited cashback on all spends. It also allows for customization of the card design and billing cycle. \\n\",\n",
       " 'sources': 'https://www.hdfcbank.com/personal/pay/cards/credit-cards'}"
      ]
     },
     "execution_count": 37,
     "metadata": {},
     "output_type": "execute_result"
    }
   ],
   "source": [
    "response"
   ]
  },
  {
   "cell_type": "code",
   "execution_count": 7,
   "metadata": {},
   "outputs": [
    {
     "data": {
      "text/plain": [
       "' The benefits of the Freedom Credit Card include complimentary Times Prime Annual Membership, up to 20% discount offers on travel and shopping, 25% discount on movies, and reward points for every Rs.150 spent. Other popular HDFC Bank Credit Cards include the All Miles Credit Card, Bharat Credit Card, and Diners Club Premium Credit Card. \\n'"
      ]
     },
     "execution_count": 7,
     "metadata": {},
     "output_type": "execute_result"
    }
   ],
   "source": [
    "response['answer']"
   ]
  },
  {
   "cell_type": "markdown",
   "metadata": {},
   "source": [
    "## Normal Method Function call using OpenAI"
   ]
  },
  {
   "cell_type": "code",
   "execution_count": 12,
   "metadata": {},
   "outputs": [],
   "source": [
    "import json\n",
    "from datetime import datetime,timedelta\n",
    "from openai import OpenAI\n",
    "\n",
    "openai=OpenAI()\n",
    "\n",
    "\n",
    "tools = [\n",
    "    {\n",
    "        \"type\": \"function\",\n",
    "        \"function\": {\n",
    "            \"name\": \"get_fancy_names\",\n",
    "            \"description\": \"This question will ask user to answered to llm.\",\n",
    "            \"parameters\": {\n",
    "                \"type\": \"object\",\n",
    "                \"properties\": {\n",
    "                    \"question\": {\n",
    "                        \"type\": \"string\",\n",
    "                        \"description\": \"This question will ask user to answered to llm .\",\n",
    "                    },\n",
    "                },\n",
    "                \"required\": [\"question\"],\n",
    "                \n",
    "            },\n",
    "        }\n",
    "    },\n",
    "    {\n",
    "        \"type\": \"function\",\n",
    "        \"function\": {\n",
    "            \"name\": \"get_creditcard_info\",\n",
    "            \"description\": \"This funtion will return the credit card details  informations\",\n",
    "            \"parameters\": {\n",
    "                \"type\": \"object\",\n",
    "                \"properties\": {\n",
    "                    \"question\": {\n",
    "                        \"type\": \"string\",\n",
    "                        \"question\": \"This question will ask user to answered to llm .\",\n",
    "                    },\n",
    "                },\n",
    "                \"required\": [\"question\"],\n",
    "            },\n",
    "        }\n",
    "    },\n",
    "\n",
    "\n",
    "]\n",
    "\n",
    "\n",
    "def get_fancy_names(question :str):\n",
    "\n",
    "    \"\"\"Get flight information between two locations.\"\"\"\n",
    "    response=openai.chat.completions.create(\n",
    "        model=\"gpt-4o\",\n",
    "        messages=[\n",
    "            {\"role\": \"user\", \"content\": question},\n",
    "        ],\n",
    "        max_tokens=100,\n",
    "        temperature=0.7,\n",
    "        n=1,\n",
    "    )\n",
    "    return json.dumps({\"company_names\":response.choices[0].message.content})\n",
    "\n",
    "    #return json.dumps({\"name\":\"karuppu\"})\n",
    "\n",
    "def get_creditcard_info(question :str):\n",
    "    # # Load Vector\n",
    "    # vectordb=FAISS.load_local(\"credicard\",OpenAIEmbeddings(),allow_dangerous_deserialization=True)\n",
    "    # # retriever\n",
    "    # retrieverdb=vectordb.as_retriever(search_kwargs={'k': 2})\n",
    "\n",
    "    # #llm = OpenAI(temperature=0.9,max_tokens=400)\n",
    "\n",
    "    # # Create chain\n",
    "    # chain=RetrievalQAWithSourcesChain.from_chain_type(OpenAI(), chain_type=\"stuff\", retriever=retrieverdb)\n",
    "\n",
    "    response=chain.invoke({\n",
    "    \"question\": question\n",
    "    })\n",
    "\n",
    "    response =json.dumps(response['answer'])\n",
    "\n",
    "    return response\n",
    "\n",
    "#user_prompt = \"Give me the 5 fancy names of the pencil company?\"\n",
    "user_prompt=\"Pixel Play Credit Card The Born Digital Range of Credit Cards? provide benifits offers?\"\n",
    "#user_prompt = \"give me the 5 names of company which makes products of pencil? \"\n",
    "\n",
    "\n",
    "\n",
    "# messages.append({\"role\": \"user\", \"content\": user_prompt})\n",
    "output = openai.chat.completions.create(\n",
    "    model=\"gpt-4o\",\n",
    "    messages=[\n",
    "        {\n",
    "            \"role\" : \"system\",\n",
    "            \"content\" : \" You are the helpfull assistence to give me the better results\"\n",
    "        },\n",
    "        {\n",
    "            \"role\" : \"user\",\n",
    "            \"content\" : \" user will ask questions which might be present in the llm or vector database\"\n",
    "        },\n",
    "        {\n",
    "            \"role\" : \"assistant\",\n",
    "            \"content\" : \"Hi there! I can help with that. Can you please provide more info?\"\n",
    "        },\n",
    "        {\n",
    "            \"role\" : \"user\",\n",
    "            \"content\" : user_prompt\n",
    "        }\n",
    "    ],\n",
    "    tools=tools\n",
    ")\n",
    "\n"
   ]
  },
  {
   "cell_type": "code",
   "execution_count": 95,
   "metadata": {},
   "outputs": [],
   "source": [
    "## Learniing samples\n",
    "\n",
    "# json.loads(output.choices[0].message.tool_calls[0].function.arguments)\n",
    "# output.choices[0].message.tool_calls[0].function.name\n",
    "\n",
    "# import json\n",
    "# creadit_card_info=json.loads(output.choices[0].message.tool_calls[0].function.arguments)\n",
    "# #kpparent_info\n",
    "\n",
    "# card_function=eval(output.choices[0].message.tool_calls[0].function.name)\n",
    "# pixel_play_card = card_function(**creadit_card_info)\n",
    "\n",
    "# pixel_play_card #we will get parent details with helo of llm"
   ]
  },
  {
   "cell_type": "code",
   "execution_count": 13,
   "metadata": {},
   "outputs": [
    {
     "name": "stdout",
     "output_type": "stream",
     "text": [
      "\" The Pixel Play Credit Card, part of the Born Digital Range of Credit Cards, offers 5% CashBack on choice of any 2 Packs in various categories such as Dining & Entertainment, Travel, Grocery, Electronics, and Fashion. It also offers 3% CashBack on choice of any one e-commerce merchant and 1% Unlimited CashBack on all spends. It can be applied for and controlled through PayZapp. The card also offers customization options for design and billing cycle. The MoneyBack+ Credit Card is another option for everyday spends, offering 5X CashPoints on EMI spends and 1 CashPoint per every Rs.150 on other spends. It also has a festive offer for a lifetime free credit card and vouchers worth up to INR 5,000. The Freedom Credit Card is another option for everyday spends and big purchases, offering 5X CashPoints on EMI spends and 1 CashPoint per every Rs.150 on other spends. It also has a festive offer for a lifetime free credit card and vouchers worth up to INR 5,000. The Pixel Play Credit Card is available for online application and control through PayZapp. \"\n"
     ]
    }
   ],
   "source": [
    "llm_response=output.choices[0].message.tool_calls\n",
    "# Making which function will call\n",
    "if llm_response:\n",
    "    function_name=output.choices[0].message.tool_calls[0].function.name\n",
    "    if function_name == \"get_creditcard_info\":\n",
    "        creadit_card_info=json.loads(output.choices[0].message.tool_calls[0].function.arguments)\n",
    "        card_function=eval(output.choices[0].message.tool_calls[0].function.name)\n",
    "        pixel_play_card = card_function(**creadit_card_info)\n",
    "        print(pixel_play_card)\n",
    "\n",
    "    elif function_name == \"get_fancy_names\":\n",
    "        fancy_info=json.loads(output.choices[0].message.tool_calls[0].function.arguments)\n",
    "        get_fancy_function=eval(output.choices[0].message.tool_calls[0].function.name)\n",
    "        fancy_names = get_fancy_function(**fancy_info)\n",
    "        print(fancy_names)\n",
    "\n",
    "#if name == \"get_creditcard_info\" :\n",
    "else:\n",
    "    print(\"Error while getting function call from llm\")\n"
   ]
  },
  {
   "cell_type": "markdown",
   "metadata": {},
   "source": [
    "## Function Call Basic using OpenAI"
   ]
  },
  {
   "cell_type": "code",
   "execution_count": 14,
   "metadata": {},
   "outputs": [],
   "source": [
    "from openai import OpenAI\n",
    "\n",
    "client = OpenAI()"
   ]
  },
  {
   "cell_type": "code",
   "execution_count": 15,
   "metadata": {},
   "outputs": [
    {
     "data": {
      "text/plain": [
       "'{\"parent_name\": \"kp\", \"Age\": 40, \"Mother_name\": \"abc\", \"Father_name\": \"xyz\", \"Address\": \"xyz street\"}'"
      ]
     },
     "execution_count": 15,
     "metadata": {},
     "output_type": "execute_result"
    }
   ],
   "source": [
    "# step 1 : create function call\n",
    "function_description=[\n",
    "    {\n",
    "        \"name\": \"get_kp_details\",\n",
    "        \"description\": \"Get the details of kp information\",\n",
    "            \"parameters\": \n",
    "            {\n",
    "                \"type\": \"object\",\n",
    "                \"properties\": {\n",
    "                    \"parent_name\": \n",
    "                        {\n",
    "                            \"type\": \"string\",\n",
    "                            \"description\": \"Name of the parent\",\n",
    "                        \n",
    "                        },\n",
    "                },\n",
    "                \"required\": [\"parent_name\"],\n",
    "            },\n",
    "    },\n",
    "    \n",
    "]\n",
    "\n",
    "\n",
    "# step 2: make llm call\n",
    "\n",
    "messages = [\n",
    "    {\"role\": \"system\", \"content\": \"you are helpfull assistent to get information\"},\n",
    "    {\"role\": \"user\", \"content\": \"Please provoide parents details\"},\n",
    "    {\"role\": \"assistant\", \"content\": \"Hi i can assist you please provide parents details\"},\n",
    "    {\"role\": \"user\", \"content\": \"please provoide kp parents details\"},\n",
    "    ]\n",
    "completion = client.chat.completions.create(\n",
    "    model=\"gpt-4o\",\n",
    "    messages=messages,\n",
    "    functions=function_description,\n",
    "    function_call=\"auto\",\n",
    "    temperature=0.7,\n",
    "    max_tokens=100   \n",
    ")\n",
    "\n",
    "# completion.choices[0].message.function_call.arguments This will give the arguments of function call which we can pass to the function\n",
    "\n",
    "def get_kp_details(parent_name):\n",
    "    import json\n",
    "    parent_info={\n",
    "        \"parent_name\":parent_name,\n",
    "        \"Age\" : 40,\n",
    "        \"Mother_name\":\"abc\",\n",
    "        \"Father_name\":\"xyz\",\n",
    "        \"Address\":\"xyz street\"\n",
    "    }\n",
    "    return json.dumps(parent_info)\n",
    "\n",
    "# this\n",
    "\n",
    "import json\n",
    "kpparent_info=json.loads(completion.choices[0].message.function_call.arguments)\n",
    "#kpparent_info\n",
    "\n",
    "parent_function=eval(completion.choices[0].message.function_call.name)\n",
    "parent_info = parent_function(**kpparent_info)\n",
    "\n",
    "parent_info #we will get parent details with helo of llm\n",
    "\n"
   ]
  },
  {
   "cell_type": "markdown",
   "metadata": {},
   "source": [
    "## Tool Call Basic OpenAI"
   ]
  },
  {
   "cell_type": "code",
   "execution_count": 16,
   "metadata": {},
   "outputs": [
    {
     "data": {
      "text/plain": [
       "'{\"parent_name\": \"kp\", \"Age\": 40, \"Mother_name\": \"abc\", \"Father_name\": \"xyz\", \"Address\": \"xyz street\"}'"
      ]
     },
     "execution_count": 16,
     "metadata": {},
     "output_type": "execute_result"
    }
   ],
   "source": [
    "# Step : 1 set the tools configuration\n",
    "tools = [\n",
    "    {\n",
    "        \"type\": \"function\",\n",
    "        \"function\": {\n",
    "            \"name\": \"get_kp_details\",\n",
    "            \"description\": \"This function will get the details of kp information\",\n",
    "            \"parameters\": {\n",
    "                \"type\": \"object\",\n",
    "                \"properties\": {\n",
    "                    \"parent_name\": {\n",
    "                        \"type\": \"string\",\n",
    "                        \"description\": \"The kp parent name\"\n",
    "                    }\n",
    "                },\n",
    "                \"required\": [\"parent_name\"],\n",
    "                \"additionalProperties\": False\n",
    "            }\n",
    "        }\n",
    "    }\n",
    "]\n",
    "\n",
    "# step 2: make llm call to get parameters\n",
    "\n",
    "messages = [\n",
    "    {\"role\": \"system\", \"content\": \"you are helpfull assistent to get information\"},\n",
    "    {\"role\": \"user\", \"content\": \"Please provoide parents details\"},\n",
    "    {\"role\": \"assistant\", \"content\": \"Hi i can assist you please provide parents details\"},\n",
    "    {\"role\": \"user\", \"content\": \"please provoide kp parents details\"},\n",
    "    ]\n",
    "completion = client.chat.completions.create(\n",
    "    model=\"gpt-4o\",\n",
    "    messages=messages,\n",
    "    tools=tools,\n",
    "    temperature=0.7,\n",
    "    max_tokens=100   \n",
    ")\n",
    "\n",
    "# completion.choices[0].message.function_call.arguments This will give the arguments of function call which we can pass to the function\n",
    "\n",
    "def get_kp_details(parent_name):\n",
    "    import json\n",
    "    parent_info={\n",
    "        \"parent_name\":parent_name,\n",
    "        \"Age\" : 40,\n",
    "        \"Mother_name\":\"abc\",\n",
    "        \"Father_name\":\"xyz\",\n",
    "        \"Address\":\"xyz street\"\n",
    "    }\n",
    "    return json.dumps(parent_info)\n",
    "\n",
    "#completion.choices[0].message.tool_calls[0].function.arguments \n",
    "\n",
    "import json\n",
    "kpparent_info=json.loads(completion.choices[0].message.tool_calls[0].function.arguments)\n",
    "#kpparent_info\n",
    "\n",
    "parent_function=eval(completion.choices[0].message.tool_calls[0].function.name)\n",
    "parent_info = parent_function(**kpparent_info)\n",
    "\n",
    "parent_info #we will get parent details with helo of llm"
   ]
  },
  {
   "cell_type": "code",
   "execution_count": 22,
   "metadata": {},
   "outputs": [
    {
     "data": {
      "text/plain": [
       "'get_kp_details'"
      ]
     },
     "execution_count": 22,
     "metadata": {},
     "output_type": "execute_result"
    }
   ],
   "source": [
    "completion.choices[0].message.tool_calls[0].function.name"
   ]
  },
  {
   "cell_type": "markdown",
   "metadata": {},
   "source": [
    "# Done"
   ]
  },
  {
   "cell_type": "markdown",
   "metadata": {},
   "source": []
  }
 ],
 "metadata": {
  "kernelspec": {
   "display_name": "RagLLM",
   "language": "python",
   "name": "python3"
  },
  "language_info": {
   "codemirror_mode": {
    "name": "ipython",
    "version": 3
   },
   "file_extension": ".py",
   "mimetype": "text/x-python",
   "name": "python",
   "nbconvert_exporter": "python",
   "pygments_lexer": "ipython3",
   "version": "3.10.15"
  }
 },
 "nbformat": 4,
 "nbformat_minor": 2
}
