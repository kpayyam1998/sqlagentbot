{
 "cells": [
  {
   "cell_type": "code",
   "execution_count": 2,
   "metadata": {},
   "outputs": [
    {
     "data": {
      "text/plain": [
       "True"
      ]
     },
     "execution_count": 2,
     "metadata": {},
     "output_type": "execute_result"
    }
   ],
   "source": [
    "from langchain_openai import ChatOpenAI\n",
    "from langchain.tools import tool\n",
    "from langchain.prompts import ChatPromptTemplate\n",
    "\n",
    "from dotenv import load_dotenv\n",
    "\n",
    "load_dotenv()\n",
    "\n"
   ]
  },
  {
   "cell_type": "code",
   "execution_count": 16,
   "metadata": {},
   "outputs": [],
   "source": [
    "from langchain_openai import ChatOpenAI\n",
    "\n",
    "llm = ChatOpenAI(model=\"gpt-3.5-turbo\", temperature=0)"
   ]
  },
  {
   "cell_type": "code",
   "execution_count": 17,
   "metadata": {},
   "outputs": [
    {
     "data": {
      "text/plain": [
       "3"
      ]
     },
     "execution_count": 17,
     "metadata": {},
     "output_type": "execute_result"
    }
   ],
   "source": [
    "from langchain.agents import tool\n",
    "\n",
    "\n",
    "@tool\n",
    "def get_word_length(word: str) -> int:\n",
    "    \"\"\"Returns the length of a word.\"\"\"\n",
    "    return len(word)\n",
    "\n",
    "\n",
    "get_word_length.invoke(\"abc\")"
   ]
  },
  {
   "cell_type": "code",
   "execution_count": 18,
   "metadata": {},
   "outputs": [],
   "source": [
    "tools = [get_word_length]"
   ]
  },
  {
   "cell_type": "code",
   "execution_count": 21,
   "metadata": {},
   "outputs": [],
   "source": [
    "from langchain_core.prompts import ChatPromptTemplate, MessagesPlaceholder\n",
    "\n",
    "prompt = ChatPromptTemplate.from_messages(\n",
    "    [\n",
    "        (\n",
    "            \"system\",\n",
    "            \"You are very powerful assistant, but don't know current events\",\n",
    "        ),\n",
    "        (\"user\", \"{input}\"),\n",
    "    ]\n",
    ")"
   ]
  },
  {
   "cell_type": "code",
   "execution_count": 22,
   "metadata": {},
   "outputs": [
    {
     "data": {
      "text/plain": [
       "ChatPromptTemplate(input_variables=['input'], input_types={}, partial_variables={}, messages=[SystemMessagePromptTemplate(prompt=PromptTemplate(input_variables=[], input_types={}, partial_variables={}, template=\"You are very powerful assistant, but don't know current events\"), additional_kwargs={}), HumanMessagePromptTemplate(prompt=PromptTemplate(input_variables=['input'], input_types={}, partial_variables={}, template='{input}'), additional_kwargs={})])"
      ]
     },
     "execution_count": 22,
     "metadata": {},
     "output_type": "execute_result"
    }
   ],
   "source": [
    "prompt"
   ]
  },
  {
   "cell_type": "code",
   "execution_count": 23,
   "metadata": {},
   "outputs": [],
   "source": [
    "llm_with_tools = llm.bind_tools(tools)"
   ]
  },
  {
   "cell_type": "code",
   "execution_count": 24,
   "metadata": {},
   "outputs": [
    {
     "data": {
      "text/plain": [
       "RunnableBinding(bound=ChatOpenAI(client=<openai.resources.chat.completions.Completions object at 0x00000261302C2C80>, async_client=<openai.resources.chat.completions.AsyncCompletions object at 0x00000261302F9090>, root_client=<openai.OpenAI object at 0x00000261302C3BB0>, root_async_client=<openai.AsyncOpenAI object at 0x00000261302C0850>, temperature=0.0, model_kwargs={}, openai_api_key=SecretStr('**********')), kwargs={'tools': [{'type': 'function', 'function': {'name': 'get_word_length', 'description': 'Returns the length of a word.', 'parameters': {'properties': {'word': {'type': 'string'}}, 'required': ['word'], 'type': 'object'}}}]}, config={}, config_factories=[])"
      ]
     },
     "execution_count": 24,
     "metadata": {},
     "output_type": "execute_result"
    }
   ],
   "source": [
    "llm_with_tools"
   ]
  },
  {
   "cell_type": "code",
   "execution_count": 30,
   "metadata": {},
   "outputs": [],
   "source": [
    "from langchain.agents.format_scratchpad.openai_tools import (\n",
    "    format_to_openai_tool_messages,\n",
    ")\n",
    "from langchain.agents.output_parsers.openai_tools import OpenAIToolsAgentOutputParser\n",
    "\n",
    "agent = (\n",
    "    {\n",
    "        \"input\": lambda x: x[\"input\"],\n",
    "        \n",
    "    }\n",
    "    | prompt\n",
    "    | llm_with_tools\n",
    "    | OpenAIToolsAgentOutputParser()\n",
    ")"
   ]
  },
  {
   "cell_type": "code",
   "execution_count": 28,
   "metadata": {},
   "outputs": [
    {
     "data": {
      "text/plain": [
       "{\n",
       "  input: RunnableLambda(...)\n",
       "}\n",
       "| ChatPromptTemplate(input_variables=['input'], input_types={}, partial_variables={}, messages=[SystemMessagePromptTemplate(prompt=PromptTemplate(input_variables=[], input_types={}, partial_variables={}, template=\"You are very powerful assistant, but don't know current events\"), additional_kwargs={}), HumanMessagePromptTemplate(prompt=PromptTemplate(input_variables=['input'], input_types={}, partial_variables={}, template='{input}'), additional_kwargs={})])\n",
       "| RunnableBinding(bound=ChatOpenAI(client=<openai.resources.chat.completions.Completions object at 0x00000261302C2C80>, async_client=<openai.resources.chat.completions.AsyncCompletions object at 0x00000261302F9090>, root_client=<openai.OpenAI object at 0x00000261302C3BB0>, root_async_client=<openai.AsyncOpenAI object at 0x00000261302C0850>, temperature=0.0, model_kwargs={}, openai_api_key=SecretStr('**********')), kwargs={'tools': [{'type': 'function', 'function': {'name': 'get_word_length', 'description': 'Returns the length of a word.', 'parameters': {'properties': {'word': {'type': 'string'}}, 'required': ['word'], 'type': 'object'}}}]}, config={}, config_factories=[])\n",
       "| OpenAIToolsAgentOutputParser()"
      ]
     },
     "execution_count": 28,
     "metadata": {},
     "output_type": "execute_result"
    }
   ],
   "source": [
    "agent"
   ]
  },
  {
   "cell_type": "code",
   "execution_count": 31,
   "metadata": {},
   "outputs": [],
   "source": [
    "from langchain.agents import AgentExecutor\n",
    "\n",
    "agent_executor = AgentExecutor(agent=agent, tools=tools, verbose=True)"
   ]
  },
  {
   "cell_type": "code",
   "execution_count": 32,
   "metadata": {},
   "outputs": [
    {
     "data": {
      "text/plain": [
       "AgentExecutor(verbose=True, agent=RunnableMultiActionAgent(runnable={\n",
       "  input: RunnableLambda(...)\n",
       "}\n",
       "| ChatPromptTemplate(input_variables=['input'], input_types={}, partial_variables={}, messages=[SystemMessagePromptTemplate(prompt=PromptTemplate(input_variables=[], input_types={}, partial_variables={}, template=\"You are very powerful assistant, but don't know current events\"), additional_kwargs={}), HumanMessagePromptTemplate(prompt=PromptTemplate(input_variables=['input'], input_types={}, partial_variables={}, template='{input}'), additional_kwargs={})])\n",
       "| RunnableBinding(bound=ChatOpenAI(client=<openai.resources.chat.completions.Completions object at 0x00000261302C2C80>, async_client=<openai.resources.chat.completions.AsyncCompletions object at 0x00000261302F9090>, root_client=<openai.OpenAI object at 0x00000261302C3BB0>, root_async_client=<openai.AsyncOpenAI object at 0x00000261302C0850>, temperature=0.0, model_kwargs={}, openai_api_key=SecretStr('**********')), kwargs={'tools': [{'type': 'function', 'function': {'name': 'get_word_length', 'description': 'Returns the length of a word.', 'parameters': {'properties': {'word': {'type': 'string'}}, 'required': ['word'], 'type': 'object'}}}]}, config={}, config_factories=[])\n",
       "| OpenAIToolsAgentOutputParser(), input_keys_arg=[], return_keys_arg=[], stream_runnable=True), tools=[StructuredTool(name='get_word_length', description='Returns the length of a word.', args_schema=<class 'langchain_core.utils.pydantic.get_word_length'>, func=<function get_word_length at 0x000002612E6B2710>)])"
      ]
     },
     "execution_count": 32,
     "metadata": {},
     "output_type": "execute_result"
    }
   ],
   "source": [
    "agent_executor"
   ]
  },
  {
   "cell_type": "code",
   "execution_count": 35,
   "metadata": {},
   "outputs": [
    {
     "name": "stdout",
     "output_type": "stream",
     "text": [
      "\n",
      "\n",
      "\u001b[1m> Entering new None chain...\u001b[0m\n",
      "\u001b[32;1m\u001b[1;3m\n",
      "Invoking: `get_word_length` with `{'word': 'eudca'}`\n",
      "\n",
      "\n",
      "\u001b[0m\u001b[36;1m\u001b[1;3m5\u001b[0m\u001b[32;1m\u001b[1;3m\n",
      "Invoking: `get_word_length` with `{'word': 'eudca'}`\n",
      "\n",
      "\n",
      "\u001b[0m\u001b[36;1m\u001b[1;3m5\u001b[0m\u001b[32;1m\u001b[1;3m\n",
      "Invoking: `get_word_length` with `{'word': 'eudca'}`\n",
      "\n",
      "\n",
      "\u001b[0m\u001b[36;1m\u001b[1;3m5\u001b[0m\u001b[32;1m\u001b[1;3m\n",
      "Invoking: `get_word_length` with `{'word': 'eudca'}`\n",
      "\n",
      "\n",
      "\u001b[0m\u001b[36;1m\u001b[1;3m5\u001b[0m\u001b[32;1m\u001b[1;3m\n",
      "Invoking: `get_word_length` with `{'word': 'eudca'}`\n",
      "\n",
      "\n",
      "\u001b[0m\u001b[36;1m\u001b[1;3m5\u001b[0m\u001b[32;1m\u001b[1;3m\n",
      "Invoking: `get_word_length` with `{'word': 'eudca'}`\n",
      "\n",
      "\n",
      "\u001b[0m\u001b[36;1m\u001b[1;3m5\u001b[0m\u001b[32;1m\u001b[1;3m\n",
      "Invoking: `get_word_length` with `{'word': 'eudca'}`\n",
      "\n",
      "\n",
      "\u001b[0m\u001b[36;1m\u001b[1;3m5\u001b[0m\u001b[32;1m\u001b[1;3m\n",
      "Invoking: `get_word_length` with `{'word': 'eudca'}`\n",
      "\n",
      "\n",
      "\u001b[0m\u001b[36;1m\u001b[1;3m5\u001b[0m\u001b[32;1m\u001b[1;3m\n",
      "Invoking: `get_word_length` with `{'word': 'eudca'}`\n",
      "\n",
      "\n",
      "\u001b[0m\u001b[36;1m\u001b[1;3m5\u001b[0m\u001b[32;1m\u001b[1;3m\n",
      "Invoking: `get_word_length` with `{'word': 'eudca'}`\n",
      "\n",
      "\n",
      "\u001b[0m\u001b[36;1m\u001b[1;3m5\u001b[0m\u001b[32;1m\u001b[1;3m\n",
      "Invoking: `get_word_length` with `{'word': 'eudca'}`\n",
      "\n",
      "\n",
      "\u001b[0m\u001b[36;1m\u001b[1;3m5\u001b[0m\u001b[32;1m\u001b[1;3m\n",
      "Invoking: `get_word_length` with `{'word': 'eudca'}`\n",
      "\n",
      "\n",
      "\u001b[0m\u001b[36;1m\u001b[1;3m5\u001b[0m\u001b[32;1m\u001b[1;3m\n",
      "Invoking: `get_word_length` with `{'word': 'eudca'}`\n",
      "\n",
      "\n",
      "\u001b[0m\u001b[36;1m\u001b[1;3m5\u001b[0m\u001b[32;1m\u001b[1;3m\n",
      "Invoking: `get_word_length` with `{'word': 'eudca'}`\n",
      "\n",
      "\n",
      "\u001b[0m\u001b[36;1m\u001b[1;3m5\u001b[0m"
     ]
    },
    {
     "name": "stderr",
     "output_type": "stream",
     "text": [
      "Stopping agent prematurely due to triggering stop condition\n"
     ]
    },
    {
     "name": "stdout",
     "output_type": "stream",
     "text": [
      "\u001b[32;1m\u001b[1;3m\n",
      "Invoking: `get_word_length` with `{'word': 'eudca'}`\n",
      "\n",
      "\n",
      "\u001b[0m\u001b[36;1m\u001b[1;3m5\u001b[0m\u001b[32;1m\u001b[1;3m\u001b[0m\n",
      "\n",
      "\u001b[1m> Finished chain.\u001b[0m\n"
     ]
    },
    {
     "data": {
      "text/plain": [
       "[{'actions': [ToolAgentAction(tool='get_word_length', tool_input={'word': 'eudca'}, log=\"\\nInvoking: `get_word_length` with `{'word': 'eudca'}`\\n\\n\\n\", message_log=[AIMessageChunk(content='', additional_kwargs={'tool_calls': [{'index': 0, 'id': 'call_xnHTe4lb39P5v7IYtutniRox', 'function': {'arguments': '{\"word\":\"eudca\"}', 'name': 'get_word_length'}, 'type': 'function'}]}, response_metadata={'finish_reason': 'tool_calls', 'model_name': 'gpt-3.5-turbo-0125'}, id='run-ed302d79-3d71-4647-a9d5-e3fe9235baca', tool_calls=[{'name': 'get_word_length', 'args': {'word': 'eudca'}, 'id': 'call_xnHTe4lb39P5v7IYtutniRox', 'type': 'tool_call'}], tool_call_chunks=[{'name': 'get_word_length', 'args': '{\"word\":\"eudca\"}', 'id': 'call_xnHTe4lb39P5v7IYtutniRox', 'index': 0, 'type': 'tool_call_chunk'}])], tool_call_id='call_xnHTe4lb39P5v7IYtutniRox')],\n",
       "  'messages': [AIMessageChunk(content='', additional_kwargs={'tool_calls': [{'index': 0, 'id': 'call_xnHTe4lb39P5v7IYtutniRox', 'function': {'arguments': '{\"word\":\"eudca\"}', 'name': 'get_word_length'}, 'type': 'function'}]}, response_metadata={'finish_reason': 'tool_calls', 'model_name': 'gpt-3.5-turbo-0125'}, id='run-ed302d79-3d71-4647-a9d5-e3fe9235baca', tool_calls=[{'name': 'get_word_length', 'args': {'word': 'eudca'}, 'id': 'call_xnHTe4lb39P5v7IYtutniRox', 'type': 'tool_call'}], tool_call_chunks=[{'name': 'get_word_length', 'args': '{\"word\":\"eudca\"}', 'id': 'call_xnHTe4lb39P5v7IYtutniRox', 'index': 0, 'type': 'tool_call_chunk'}])]},\n",
       " {'steps': [AgentStep(action=ToolAgentAction(tool='get_word_length', tool_input={'word': 'eudca'}, log=\"\\nInvoking: `get_word_length` with `{'word': 'eudca'}`\\n\\n\\n\", message_log=[AIMessageChunk(content='', additional_kwargs={'tool_calls': [{'index': 0, 'id': 'call_xnHTe4lb39P5v7IYtutniRox', 'function': {'arguments': '{\"word\":\"eudca\"}', 'name': 'get_word_length'}, 'type': 'function'}]}, response_metadata={'finish_reason': 'tool_calls', 'model_name': 'gpt-3.5-turbo-0125'}, id='run-ed302d79-3d71-4647-a9d5-e3fe9235baca', tool_calls=[{'name': 'get_word_length', 'args': {'word': 'eudca'}, 'id': 'call_xnHTe4lb39P5v7IYtutniRox', 'type': 'tool_call'}], tool_call_chunks=[{'name': 'get_word_length', 'args': '{\"word\":\"eudca\"}', 'id': 'call_xnHTe4lb39P5v7IYtutniRox', 'index': 0, 'type': 'tool_call_chunk'}])], tool_call_id='call_xnHTe4lb39P5v7IYtutniRox'), observation=5)],\n",
       "  'messages': [FunctionMessage(content='5', additional_kwargs={}, response_metadata={}, name='get_word_length')]},\n",
       " {'actions': [ToolAgentAction(tool='get_word_length', tool_input={'word': 'eudca'}, log=\"\\nInvoking: `get_word_length` with `{'word': 'eudca'}`\\n\\n\\n\", message_log=[AIMessageChunk(content='', additional_kwargs={'tool_calls': [{'index': 0, 'id': 'call_30fLi9lJsmeFaxc5LR1dgGSa', 'function': {'arguments': '{\"word\":\"eudca\"}', 'name': 'get_word_length'}, 'type': 'function'}]}, response_metadata={'finish_reason': 'tool_calls', 'model_name': 'gpt-3.5-turbo-0125'}, id='run-5a34ff19-137e-47f9-ab34-3d2f1c316813', tool_calls=[{'name': 'get_word_length', 'args': {'word': 'eudca'}, 'id': 'call_30fLi9lJsmeFaxc5LR1dgGSa', 'type': 'tool_call'}], tool_call_chunks=[{'name': 'get_word_length', 'args': '{\"word\":\"eudca\"}', 'id': 'call_30fLi9lJsmeFaxc5LR1dgGSa', 'index': 0, 'type': 'tool_call_chunk'}])], tool_call_id='call_30fLi9lJsmeFaxc5LR1dgGSa')],\n",
       "  'messages': [AIMessageChunk(content='', additional_kwargs={'tool_calls': [{'index': 0, 'id': 'call_30fLi9lJsmeFaxc5LR1dgGSa', 'function': {'arguments': '{\"word\":\"eudca\"}', 'name': 'get_word_length'}, 'type': 'function'}]}, response_metadata={'finish_reason': 'tool_calls', 'model_name': 'gpt-3.5-turbo-0125'}, id='run-5a34ff19-137e-47f9-ab34-3d2f1c316813', tool_calls=[{'name': 'get_word_length', 'args': {'word': 'eudca'}, 'id': 'call_30fLi9lJsmeFaxc5LR1dgGSa', 'type': 'tool_call'}], tool_call_chunks=[{'name': 'get_word_length', 'args': '{\"word\":\"eudca\"}', 'id': 'call_30fLi9lJsmeFaxc5LR1dgGSa', 'index': 0, 'type': 'tool_call_chunk'}])]},\n",
       " {'steps': [AgentStep(action=ToolAgentAction(tool='get_word_length', tool_input={'word': 'eudca'}, log=\"\\nInvoking: `get_word_length` with `{'word': 'eudca'}`\\n\\n\\n\", message_log=[AIMessageChunk(content='', additional_kwargs={'tool_calls': [{'index': 0, 'id': 'call_30fLi9lJsmeFaxc5LR1dgGSa', 'function': {'arguments': '{\"word\":\"eudca\"}', 'name': 'get_word_length'}, 'type': 'function'}]}, response_metadata={'finish_reason': 'tool_calls', 'model_name': 'gpt-3.5-turbo-0125'}, id='run-5a34ff19-137e-47f9-ab34-3d2f1c316813', tool_calls=[{'name': 'get_word_length', 'args': {'word': 'eudca'}, 'id': 'call_30fLi9lJsmeFaxc5LR1dgGSa', 'type': 'tool_call'}], tool_call_chunks=[{'name': 'get_word_length', 'args': '{\"word\":\"eudca\"}', 'id': 'call_30fLi9lJsmeFaxc5LR1dgGSa', 'index': 0, 'type': 'tool_call_chunk'}])], tool_call_id='call_30fLi9lJsmeFaxc5LR1dgGSa'), observation=5)],\n",
       "  'messages': [FunctionMessage(content='5', additional_kwargs={}, response_metadata={}, name='get_word_length')]},\n",
       " {'actions': [ToolAgentAction(tool='get_word_length', tool_input={'word': 'eudca'}, log=\"\\nInvoking: `get_word_length` with `{'word': 'eudca'}`\\n\\n\\n\", message_log=[AIMessageChunk(content='', additional_kwargs={'tool_calls': [{'index': 0, 'id': 'call_5VZNJT6TNxiVYymwT4FOMJnZ', 'function': {'arguments': '{\"word\":\"eudca\"}', 'name': 'get_word_length'}, 'type': 'function'}]}, response_metadata={'finish_reason': 'tool_calls', 'model_name': 'gpt-3.5-turbo-0125'}, id='run-b1b1e243-6836-4b1f-9bbe-ca99ce138a71', tool_calls=[{'name': 'get_word_length', 'args': {'word': 'eudca'}, 'id': 'call_5VZNJT6TNxiVYymwT4FOMJnZ', 'type': 'tool_call'}], tool_call_chunks=[{'name': 'get_word_length', 'args': '{\"word\":\"eudca\"}', 'id': 'call_5VZNJT6TNxiVYymwT4FOMJnZ', 'index': 0, 'type': 'tool_call_chunk'}])], tool_call_id='call_5VZNJT6TNxiVYymwT4FOMJnZ')],\n",
       "  'messages': [AIMessageChunk(content='', additional_kwargs={'tool_calls': [{'index': 0, 'id': 'call_5VZNJT6TNxiVYymwT4FOMJnZ', 'function': {'arguments': '{\"word\":\"eudca\"}', 'name': 'get_word_length'}, 'type': 'function'}]}, response_metadata={'finish_reason': 'tool_calls', 'model_name': 'gpt-3.5-turbo-0125'}, id='run-b1b1e243-6836-4b1f-9bbe-ca99ce138a71', tool_calls=[{'name': 'get_word_length', 'args': {'word': 'eudca'}, 'id': 'call_5VZNJT6TNxiVYymwT4FOMJnZ', 'type': 'tool_call'}], tool_call_chunks=[{'name': 'get_word_length', 'args': '{\"word\":\"eudca\"}', 'id': 'call_5VZNJT6TNxiVYymwT4FOMJnZ', 'index': 0, 'type': 'tool_call_chunk'}])]},\n",
       " {'steps': [AgentStep(action=ToolAgentAction(tool='get_word_length', tool_input={'word': 'eudca'}, log=\"\\nInvoking: `get_word_length` with `{'word': 'eudca'}`\\n\\n\\n\", message_log=[AIMessageChunk(content='', additional_kwargs={'tool_calls': [{'index': 0, 'id': 'call_5VZNJT6TNxiVYymwT4FOMJnZ', 'function': {'arguments': '{\"word\":\"eudca\"}', 'name': 'get_word_length'}, 'type': 'function'}]}, response_metadata={'finish_reason': 'tool_calls', 'model_name': 'gpt-3.5-turbo-0125'}, id='run-b1b1e243-6836-4b1f-9bbe-ca99ce138a71', tool_calls=[{'name': 'get_word_length', 'args': {'word': 'eudca'}, 'id': 'call_5VZNJT6TNxiVYymwT4FOMJnZ', 'type': 'tool_call'}], tool_call_chunks=[{'name': 'get_word_length', 'args': '{\"word\":\"eudca\"}', 'id': 'call_5VZNJT6TNxiVYymwT4FOMJnZ', 'index': 0, 'type': 'tool_call_chunk'}])], tool_call_id='call_5VZNJT6TNxiVYymwT4FOMJnZ'), observation=5)],\n",
       "  'messages': [FunctionMessage(content='5', additional_kwargs={}, response_metadata={}, name='get_word_length')]},\n",
       " {'actions': [ToolAgentAction(tool='get_word_length', tool_input={'word': 'eudca'}, log=\"\\nInvoking: `get_word_length` with `{'word': 'eudca'}`\\n\\n\\n\", message_log=[AIMessageChunk(content='', additional_kwargs={'tool_calls': [{'index': 0, 'id': 'call_oAwRKxoZeq5FQCL4z1NpYwFr', 'function': {'arguments': '{\"word\":\"eudca\"}', 'name': 'get_word_length'}, 'type': 'function'}]}, response_metadata={'finish_reason': 'tool_calls', 'model_name': 'gpt-3.5-turbo-0125'}, id='run-826af08d-d801-43a6-a647-aef1d2a052e0', tool_calls=[{'name': 'get_word_length', 'args': {'word': 'eudca'}, 'id': 'call_oAwRKxoZeq5FQCL4z1NpYwFr', 'type': 'tool_call'}], tool_call_chunks=[{'name': 'get_word_length', 'args': '{\"word\":\"eudca\"}', 'id': 'call_oAwRKxoZeq5FQCL4z1NpYwFr', 'index': 0, 'type': 'tool_call_chunk'}])], tool_call_id='call_oAwRKxoZeq5FQCL4z1NpYwFr')],\n",
       "  'messages': [AIMessageChunk(content='', additional_kwargs={'tool_calls': [{'index': 0, 'id': 'call_oAwRKxoZeq5FQCL4z1NpYwFr', 'function': {'arguments': '{\"word\":\"eudca\"}', 'name': 'get_word_length'}, 'type': 'function'}]}, response_metadata={'finish_reason': 'tool_calls', 'model_name': 'gpt-3.5-turbo-0125'}, id='run-826af08d-d801-43a6-a647-aef1d2a052e0', tool_calls=[{'name': 'get_word_length', 'args': {'word': 'eudca'}, 'id': 'call_oAwRKxoZeq5FQCL4z1NpYwFr', 'type': 'tool_call'}], tool_call_chunks=[{'name': 'get_word_length', 'args': '{\"word\":\"eudca\"}', 'id': 'call_oAwRKxoZeq5FQCL4z1NpYwFr', 'index': 0, 'type': 'tool_call_chunk'}])]},\n",
       " {'steps': [AgentStep(action=ToolAgentAction(tool='get_word_length', tool_input={'word': 'eudca'}, log=\"\\nInvoking: `get_word_length` with `{'word': 'eudca'}`\\n\\n\\n\", message_log=[AIMessageChunk(content='', additional_kwargs={'tool_calls': [{'index': 0, 'id': 'call_oAwRKxoZeq5FQCL4z1NpYwFr', 'function': {'arguments': '{\"word\":\"eudca\"}', 'name': 'get_word_length'}, 'type': 'function'}]}, response_metadata={'finish_reason': 'tool_calls', 'model_name': 'gpt-3.5-turbo-0125'}, id='run-826af08d-d801-43a6-a647-aef1d2a052e0', tool_calls=[{'name': 'get_word_length', 'args': {'word': 'eudca'}, 'id': 'call_oAwRKxoZeq5FQCL4z1NpYwFr', 'type': 'tool_call'}], tool_call_chunks=[{'name': 'get_word_length', 'args': '{\"word\":\"eudca\"}', 'id': 'call_oAwRKxoZeq5FQCL4z1NpYwFr', 'index': 0, 'type': 'tool_call_chunk'}])], tool_call_id='call_oAwRKxoZeq5FQCL4z1NpYwFr'), observation=5)],\n",
       "  'messages': [FunctionMessage(content='5', additional_kwargs={}, response_metadata={}, name='get_word_length')]},\n",
       " {'actions': [ToolAgentAction(tool='get_word_length', tool_input={'word': 'eudca'}, log=\"\\nInvoking: `get_word_length` with `{'word': 'eudca'}`\\n\\n\\n\", message_log=[AIMessageChunk(content='', additional_kwargs={'tool_calls': [{'index': 0, 'id': 'call_Ia6Nr5kXuxsN1wB7trsCBIlL', 'function': {'arguments': '{\"word\":\"eudca\"}', 'name': 'get_word_length'}, 'type': 'function'}]}, response_metadata={'finish_reason': 'tool_calls', 'model_name': 'gpt-3.5-turbo-0125'}, id='run-6f816c94-2f10-4cc2-bbec-0f3b40f7544b', tool_calls=[{'name': 'get_word_length', 'args': {'word': 'eudca'}, 'id': 'call_Ia6Nr5kXuxsN1wB7trsCBIlL', 'type': 'tool_call'}], tool_call_chunks=[{'name': 'get_word_length', 'args': '{\"word\":\"eudca\"}', 'id': 'call_Ia6Nr5kXuxsN1wB7trsCBIlL', 'index': 0, 'type': 'tool_call_chunk'}])], tool_call_id='call_Ia6Nr5kXuxsN1wB7trsCBIlL')],\n",
       "  'messages': [AIMessageChunk(content='', additional_kwargs={'tool_calls': [{'index': 0, 'id': 'call_Ia6Nr5kXuxsN1wB7trsCBIlL', 'function': {'arguments': '{\"word\":\"eudca\"}', 'name': 'get_word_length'}, 'type': 'function'}]}, response_metadata={'finish_reason': 'tool_calls', 'model_name': 'gpt-3.5-turbo-0125'}, id='run-6f816c94-2f10-4cc2-bbec-0f3b40f7544b', tool_calls=[{'name': 'get_word_length', 'args': {'word': 'eudca'}, 'id': 'call_Ia6Nr5kXuxsN1wB7trsCBIlL', 'type': 'tool_call'}], tool_call_chunks=[{'name': 'get_word_length', 'args': '{\"word\":\"eudca\"}', 'id': 'call_Ia6Nr5kXuxsN1wB7trsCBIlL', 'index': 0, 'type': 'tool_call_chunk'}])]},\n",
       " {'steps': [AgentStep(action=ToolAgentAction(tool='get_word_length', tool_input={'word': 'eudca'}, log=\"\\nInvoking: `get_word_length` with `{'word': 'eudca'}`\\n\\n\\n\", message_log=[AIMessageChunk(content='', additional_kwargs={'tool_calls': [{'index': 0, 'id': 'call_Ia6Nr5kXuxsN1wB7trsCBIlL', 'function': {'arguments': '{\"word\":\"eudca\"}', 'name': 'get_word_length'}, 'type': 'function'}]}, response_metadata={'finish_reason': 'tool_calls', 'model_name': 'gpt-3.5-turbo-0125'}, id='run-6f816c94-2f10-4cc2-bbec-0f3b40f7544b', tool_calls=[{'name': 'get_word_length', 'args': {'word': 'eudca'}, 'id': 'call_Ia6Nr5kXuxsN1wB7trsCBIlL', 'type': 'tool_call'}], tool_call_chunks=[{'name': 'get_word_length', 'args': '{\"word\":\"eudca\"}', 'id': 'call_Ia6Nr5kXuxsN1wB7trsCBIlL', 'index': 0, 'type': 'tool_call_chunk'}])], tool_call_id='call_Ia6Nr5kXuxsN1wB7trsCBIlL'), observation=5)],\n",
       "  'messages': [FunctionMessage(content='5', additional_kwargs={}, response_metadata={}, name='get_word_length')]},\n",
       " {'actions': [ToolAgentAction(tool='get_word_length', tool_input={'word': 'eudca'}, log=\"\\nInvoking: `get_word_length` with `{'word': 'eudca'}`\\n\\n\\n\", message_log=[AIMessageChunk(content='', additional_kwargs={'tool_calls': [{'index': 0, 'id': 'call_kSF44fQSuMnLoXO6qJw8iFqL', 'function': {'arguments': '{\"word\":\"eudca\"}', 'name': 'get_word_length'}, 'type': 'function'}]}, response_metadata={'finish_reason': 'tool_calls', 'model_name': 'gpt-3.5-turbo-0125'}, id='run-b0be4044-98d6-4a74-a0fd-f05210614aab', tool_calls=[{'name': 'get_word_length', 'args': {'word': 'eudca'}, 'id': 'call_kSF44fQSuMnLoXO6qJw8iFqL', 'type': 'tool_call'}], tool_call_chunks=[{'name': 'get_word_length', 'args': '{\"word\":\"eudca\"}', 'id': 'call_kSF44fQSuMnLoXO6qJw8iFqL', 'index': 0, 'type': 'tool_call_chunk'}])], tool_call_id='call_kSF44fQSuMnLoXO6qJw8iFqL')],\n",
       "  'messages': [AIMessageChunk(content='', additional_kwargs={'tool_calls': [{'index': 0, 'id': 'call_kSF44fQSuMnLoXO6qJw8iFqL', 'function': {'arguments': '{\"word\":\"eudca\"}', 'name': 'get_word_length'}, 'type': 'function'}]}, response_metadata={'finish_reason': 'tool_calls', 'model_name': 'gpt-3.5-turbo-0125'}, id='run-b0be4044-98d6-4a74-a0fd-f05210614aab', tool_calls=[{'name': 'get_word_length', 'args': {'word': 'eudca'}, 'id': 'call_kSF44fQSuMnLoXO6qJw8iFqL', 'type': 'tool_call'}], tool_call_chunks=[{'name': 'get_word_length', 'args': '{\"word\":\"eudca\"}', 'id': 'call_kSF44fQSuMnLoXO6qJw8iFqL', 'index': 0, 'type': 'tool_call_chunk'}])]},\n",
       " {'steps': [AgentStep(action=ToolAgentAction(tool='get_word_length', tool_input={'word': 'eudca'}, log=\"\\nInvoking: `get_word_length` with `{'word': 'eudca'}`\\n\\n\\n\", message_log=[AIMessageChunk(content='', additional_kwargs={'tool_calls': [{'index': 0, 'id': 'call_kSF44fQSuMnLoXO6qJw8iFqL', 'function': {'arguments': '{\"word\":\"eudca\"}', 'name': 'get_word_length'}, 'type': 'function'}]}, response_metadata={'finish_reason': 'tool_calls', 'model_name': 'gpt-3.5-turbo-0125'}, id='run-b0be4044-98d6-4a74-a0fd-f05210614aab', tool_calls=[{'name': 'get_word_length', 'args': {'word': 'eudca'}, 'id': 'call_kSF44fQSuMnLoXO6qJw8iFqL', 'type': 'tool_call'}], tool_call_chunks=[{'name': 'get_word_length', 'args': '{\"word\":\"eudca\"}', 'id': 'call_kSF44fQSuMnLoXO6qJw8iFqL', 'index': 0, 'type': 'tool_call_chunk'}])], tool_call_id='call_kSF44fQSuMnLoXO6qJw8iFqL'), observation=5)],\n",
       "  'messages': [FunctionMessage(content='5', additional_kwargs={}, response_metadata={}, name='get_word_length')]},\n",
       " {'actions': [ToolAgentAction(tool='get_word_length', tool_input={'word': 'eudca'}, log=\"\\nInvoking: `get_word_length` with `{'word': 'eudca'}`\\n\\n\\n\", message_log=[AIMessageChunk(content='', additional_kwargs={'tool_calls': [{'index': 0, 'id': 'call_NwW4BAqSozqA7HSP0zgnBb9L', 'function': {'arguments': '{\"word\":\"eudca\"}', 'name': 'get_word_length'}, 'type': 'function'}]}, response_metadata={'finish_reason': 'tool_calls', 'model_name': 'gpt-3.5-turbo-0125'}, id='run-e51ddaa6-9467-412d-a7bb-0cfc9270faab', tool_calls=[{'name': 'get_word_length', 'args': {'word': 'eudca'}, 'id': 'call_NwW4BAqSozqA7HSP0zgnBb9L', 'type': 'tool_call'}], tool_call_chunks=[{'name': 'get_word_length', 'args': '{\"word\":\"eudca\"}', 'id': 'call_NwW4BAqSozqA7HSP0zgnBb9L', 'index': 0, 'type': 'tool_call_chunk'}])], tool_call_id='call_NwW4BAqSozqA7HSP0zgnBb9L')],\n",
       "  'messages': [AIMessageChunk(content='', additional_kwargs={'tool_calls': [{'index': 0, 'id': 'call_NwW4BAqSozqA7HSP0zgnBb9L', 'function': {'arguments': '{\"word\":\"eudca\"}', 'name': 'get_word_length'}, 'type': 'function'}]}, response_metadata={'finish_reason': 'tool_calls', 'model_name': 'gpt-3.5-turbo-0125'}, id='run-e51ddaa6-9467-412d-a7bb-0cfc9270faab', tool_calls=[{'name': 'get_word_length', 'args': {'word': 'eudca'}, 'id': 'call_NwW4BAqSozqA7HSP0zgnBb9L', 'type': 'tool_call'}], tool_call_chunks=[{'name': 'get_word_length', 'args': '{\"word\":\"eudca\"}', 'id': 'call_NwW4BAqSozqA7HSP0zgnBb9L', 'index': 0, 'type': 'tool_call_chunk'}])]},\n",
       " {'steps': [AgentStep(action=ToolAgentAction(tool='get_word_length', tool_input={'word': 'eudca'}, log=\"\\nInvoking: `get_word_length` with `{'word': 'eudca'}`\\n\\n\\n\", message_log=[AIMessageChunk(content='', additional_kwargs={'tool_calls': [{'index': 0, 'id': 'call_NwW4BAqSozqA7HSP0zgnBb9L', 'function': {'arguments': '{\"word\":\"eudca\"}', 'name': 'get_word_length'}, 'type': 'function'}]}, response_metadata={'finish_reason': 'tool_calls', 'model_name': 'gpt-3.5-turbo-0125'}, id='run-e51ddaa6-9467-412d-a7bb-0cfc9270faab', tool_calls=[{'name': 'get_word_length', 'args': {'word': 'eudca'}, 'id': 'call_NwW4BAqSozqA7HSP0zgnBb9L', 'type': 'tool_call'}], tool_call_chunks=[{'name': 'get_word_length', 'args': '{\"word\":\"eudca\"}', 'id': 'call_NwW4BAqSozqA7HSP0zgnBb9L', 'index': 0, 'type': 'tool_call_chunk'}])], tool_call_id='call_NwW4BAqSozqA7HSP0zgnBb9L'), observation=5)],\n",
       "  'messages': [FunctionMessage(content='5', additional_kwargs={}, response_metadata={}, name='get_word_length')]},\n",
       " {'actions': [ToolAgentAction(tool='get_word_length', tool_input={'word': 'eudca'}, log=\"\\nInvoking: `get_word_length` with `{'word': 'eudca'}`\\n\\n\\n\", message_log=[AIMessageChunk(content='', additional_kwargs={'tool_calls': [{'index': 0, 'id': 'call_jbsdqb0vP9o24YSiNC4jeKlN', 'function': {'arguments': '{\"word\":\"eudca\"}', 'name': 'get_word_length'}, 'type': 'function'}]}, response_metadata={'finish_reason': 'tool_calls', 'model_name': 'gpt-3.5-turbo-0125'}, id='run-e89c87c5-f4f4-41f5-8114-3e7e2a3ed577', tool_calls=[{'name': 'get_word_length', 'args': {'word': 'eudca'}, 'id': 'call_jbsdqb0vP9o24YSiNC4jeKlN', 'type': 'tool_call'}], tool_call_chunks=[{'name': 'get_word_length', 'args': '{\"word\":\"eudca\"}', 'id': 'call_jbsdqb0vP9o24YSiNC4jeKlN', 'index': 0, 'type': 'tool_call_chunk'}])], tool_call_id='call_jbsdqb0vP9o24YSiNC4jeKlN')],\n",
       "  'messages': [AIMessageChunk(content='', additional_kwargs={'tool_calls': [{'index': 0, 'id': 'call_jbsdqb0vP9o24YSiNC4jeKlN', 'function': {'arguments': '{\"word\":\"eudca\"}', 'name': 'get_word_length'}, 'type': 'function'}]}, response_metadata={'finish_reason': 'tool_calls', 'model_name': 'gpt-3.5-turbo-0125'}, id='run-e89c87c5-f4f4-41f5-8114-3e7e2a3ed577', tool_calls=[{'name': 'get_word_length', 'args': {'word': 'eudca'}, 'id': 'call_jbsdqb0vP9o24YSiNC4jeKlN', 'type': 'tool_call'}], tool_call_chunks=[{'name': 'get_word_length', 'args': '{\"word\":\"eudca\"}', 'id': 'call_jbsdqb0vP9o24YSiNC4jeKlN', 'index': 0, 'type': 'tool_call_chunk'}])]},\n",
       " {'steps': [AgentStep(action=ToolAgentAction(tool='get_word_length', tool_input={'word': 'eudca'}, log=\"\\nInvoking: `get_word_length` with `{'word': 'eudca'}`\\n\\n\\n\", message_log=[AIMessageChunk(content='', additional_kwargs={'tool_calls': [{'index': 0, 'id': 'call_jbsdqb0vP9o24YSiNC4jeKlN', 'function': {'arguments': '{\"word\":\"eudca\"}', 'name': 'get_word_length'}, 'type': 'function'}]}, response_metadata={'finish_reason': 'tool_calls', 'model_name': 'gpt-3.5-turbo-0125'}, id='run-e89c87c5-f4f4-41f5-8114-3e7e2a3ed577', tool_calls=[{'name': 'get_word_length', 'args': {'word': 'eudca'}, 'id': 'call_jbsdqb0vP9o24YSiNC4jeKlN', 'type': 'tool_call'}], tool_call_chunks=[{'name': 'get_word_length', 'args': '{\"word\":\"eudca\"}', 'id': 'call_jbsdqb0vP9o24YSiNC4jeKlN', 'index': 0, 'type': 'tool_call_chunk'}])], tool_call_id='call_jbsdqb0vP9o24YSiNC4jeKlN'), observation=5)],\n",
       "  'messages': [FunctionMessage(content='5', additional_kwargs={}, response_metadata={}, name='get_word_length')]},\n",
       " {'actions': [ToolAgentAction(tool='get_word_length', tool_input={'word': 'eudca'}, log=\"\\nInvoking: `get_word_length` with `{'word': 'eudca'}`\\n\\n\\n\", message_log=[AIMessageChunk(content='', additional_kwargs={'tool_calls': [{'index': 0, 'id': 'call_yQxiYdSK1ruiiXkoZaNZVFll', 'function': {'arguments': '{\"word\":\"eudca\"}', 'name': 'get_word_length'}, 'type': 'function'}]}, response_metadata={'finish_reason': 'tool_calls', 'model_name': 'gpt-3.5-turbo-0125'}, id='run-b90f5dd1-6257-4230-969b-61cc5e96637e', tool_calls=[{'name': 'get_word_length', 'args': {'word': 'eudca'}, 'id': 'call_yQxiYdSK1ruiiXkoZaNZVFll', 'type': 'tool_call'}], tool_call_chunks=[{'name': 'get_word_length', 'args': '{\"word\":\"eudca\"}', 'id': 'call_yQxiYdSK1ruiiXkoZaNZVFll', 'index': 0, 'type': 'tool_call_chunk'}])], tool_call_id='call_yQxiYdSK1ruiiXkoZaNZVFll')],\n",
       "  'messages': [AIMessageChunk(content='', additional_kwargs={'tool_calls': [{'index': 0, 'id': 'call_yQxiYdSK1ruiiXkoZaNZVFll', 'function': {'arguments': '{\"word\":\"eudca\"}', 'name': 'get_word_length'}, 'type': 'function'}]}, response_metadata={'finish_reason': 'tool_calls', 'model_name': 'gpt-3.5-turbo-0125'}, id='run-b90f5dd1-6257-4230-969b-61cc5e96637e', tool_calls=[{'name': 'get_word_length', 'args': {'word': 'eudca'}, 'id': 'call_yQxiYdSK1ruiiXkoZaNZVFll', 'type': 'tool_call'}], tool_call_chunks=[{'name': 'get_word_length', 'args': '{\"word\":\"eudca\"}', 'id': 'call_yQxiYdSK1ruiiXkoZaNZVFll', 'index': 0, 'type': 'tool_call_chunk'}])]},\n",
       " {'steps': [AgentStep(action=ToolAgentAction(tool='get_word_length', tool_input={'word': 'eudca'}, log=\"\\nInvoking: `get_word_length` with `{'word': 'eudca'}`\\n\\n\\n\", message_log=[AIMessageChunk(content='', additional_kwargs={'tool_calls': [{'index': 0, 'id': 'call_yQxiYdSK1ruiiXkoZaNZVFll', 'function': {'arguments': '{\"word\":\"eudca\"}', 'name': 'get_word_length'}, 'type': 'function'}]}, response_metadata={'finish_reason': 'tool_calls', 'model_name': 'gpt-3.5-turbo-0125'}, id='run-b90f5dd1-6257-4230-969b-61cc5e96637e', tool_calls=[{'name': 'get_word_length', 'args': {'word': 'eudca'}, 'id': 'call_yQxiYdSK1ruiiXkoZaNZVFll', 'type': 'tool_call'}], tool_call_chunks=[{'name': 'get_word_length', 'args': '{\"word\":\"eudca\"}', 'id': 'call_yQxiYdSK1ruiiXkoZaNZVFll', 'index': 0, 'type': 'tool_call_chunk'}])], tool_call_id='call_yQxiYdSK1ruiiXkoZaNZVFll'), observation=5)],\n",
       "  'messages': [FunctionMessage(content='5', additional_kwargs={}, response_metadata={}, name='get_word_length')]},\n",
       " {'actions': [ToolAgentAction(tool='get_word_length', tool_input={'word': 'eudca'}, log=\"\\nInvoking: `get_word_length` with `{'word': 'eudca'}`\\n\\n\\n\", message_log=[AIMessageChunk(content='', additional_kwargs={'tool_calls': [{'index': 0, 'id': 'call_qGNogb6ElLQ8HxCwvkQwjCtM', 'function': {'arguments': '{\"word\":\"eudca\"}', 'name': 'get_word_length'}, 'type': 'function'}]}, response_metadata={'finish_reason': 'tool_calls', 'model_name': 'gpt-3.5-turbo-0125'}, id='run-f064121a-8710-4f76-9cb7-75503b8c69b5', tool_calls=[{'name': 'get_word_length', 'args': {'word': 'eudca'}, 'id': 'call_qGNogb6ElLQ8HxCwvkQwjCtM', 'type': 'tool_call'}], tool_call_chunks=[{'name': 'get_word_length', 'args': '{\"word\":\"eudca\"}', 'id': 'call_qGNogb6ElLQ8HxCwvkQwjCtM', 'index': 0, 'type': 'tool_call_chunk'}])], tool_call_id='call_qGNogb6ElLQ8HxCwvkQwjCtM')],\n",
       "  'messages': [AIMessageChunk(content='', additional_kwargs={'tool_calls': [{'index': 0, 'id': 'call_qGNogb6ElLQ8HxCwvkQwjCtM', 'function': {'arguments': '{\"word\":\"eudca\"}', 'name': 'get_word_length'}, 'type': 'function'}]}, response_metadata={'finish_reason': 'tool_calls', 'model_name': 'gpt-3.5-turbo-0125'}, id='run-f064121a-8710-4f76-9cb7-75503b8c69b5', tool_calls=[{'name': 'get_word_length', 'args': {'word': 'eudca'}, 'id': 'call_qGNogb6ElLQ8HxCwvkQwjCtM', 'type': 'tool_call'}], tool_call_chunks=[{'name': 'get_word_length', 'args': '{\"word\":\"eudca\"}', 'id': 'call_qGNogb6ElLQ8HxCwvkQwjCtM', 'index': 0, 'type': 'tool_call_chunk'}])]},\n",
       " {'steps': [AgentStep(action=ToolAgentAction(tool='get_word_length', tool_input={'word': 'eudca'}, log=\"\\nInvoking: `get_word_length` with `{'word': 'eudca'}`\\n\\n\\n\", message_log=[AIMessageChunk(content='', additional_kwargs={'tool_calls': [{'index': 0, 'id': 'call_qGNogb6ElLQ8HxCwvkQwjCtM', 'function': {'arguments': '{\"word\":\"eudca\"}', 'name': 'get_word_length'}, 'type': 'function'}]}, response_metadata={'finish_reason': 'tool_calls', 'model_name': 'gpt-3.5-turbo-0125'}, id='run-f064121a-8710-4f76-9cb7-75503b8c69b5', tool_calls=[{'name': 'get_word_length', 'args': {'word': 'eudca'}, 'id': 'call_qGNogb6ElLQ8HxCwvkQwjCtM', 'type': 'tool_call'}], tool_call_chunks=[{'name': 'get_word_length', 'args': '{\"word\":\"eudca\"}', 'id': 'call_qGNogb6ElLQ8HxCwvkQwjCtM', 'index': 0, 'type': 'tool_call_chunk'}])], tool_call_id='call_qGNogb6ElLQ8HxCwvkQwjCtM'), observation=5)],\n",
       "  'messages': [FunctionMessage(content='5', additional_kwargs={}, response_metadata={}, name='get_word_length')]},\n",
       " {'actions': [ToolAgentAction(tool='get_word_length', tool_input={'word': 'eudca'}, log=\"\\nInvoking: `get_word_length` with `{'word': 'eudca'}`\\n\\n\\n\", message_log=[AIMessageChunk(content='', additional_kwargs={'tool_calls': [{'index': 0, 'id': 'call_KklybOCDx4v4Mvcsw6og2tGK', 'function': {'arguments': '{\"word\":\"eudca\"}', 'name': 'get_word_length'}, 'type': 'function'}]}, response_metadata={'finish_reason': 'tool_calls', 'model_name': 'gpt-3.5-turbo-0125'}, id='run-f9b15fb9-ff87-4249-9497-50b2f23b9e57', tool_calls=[{'name': 'get_word_length', 'args': {'word': 'eudca'}, 'id': 'call_KklybOCDx4v4Mvcsw6og2tGK', 'type': 'tool_call'}], tool_call_chunks=[{'name': 'get_word_length', 'args': '{\"word\":\"eudca\"}', 'id': 'call_KklybOCDx4v4Mvcsw6og2tGK', 'index': 0, 'type': 'tool_call_chunk'}])], tool_call_id='call_KklybOCDx4v4Mvcsw6og2tGK')],\n",
       "  'messages': [AIMessageChunk(content='', additional_kwargs={'tool_calls': [{'index': 0, 'id': 'call_KklybOCDx4v4Mvcsw6og2tGK', 'function': {'arguments': '{\"word\":\"eudca\"}', 'name': 'get_word_length'}, 'type': 'function'}]}, response_metadata={'finish_reason': 'tool_calls', 'model_name': 'gpt-3.5-turbo-0125'}, id='run-f9b15fb9-ff87-4249-9497-50b2f23b9e57', tool_calls=[{'name': 'get_word_length', 'args': {'word': 'eudca'}, 'id': 'call_KklybOCDx4v4Mvcsw6og2tGK', 'type': 'tool_call'}], tool_call_chunks=[{'name': 'get_word_length', 'args': '{\"word\":\"eudca\"}', 'id': 'call_KklybOCDx4v4Mvcsw6og2tGK', 'index': 0, 'type': 'tool_call_chunk'}])]},\n",
       " {'steps': [AgentStep(action=ToolAgentAction(tool='get_word_length', tool_input={'word': 'eudca'}, log=\"\\nInvoking: `get_word_length` with `{'word': 'eudca'}`\\n\\n\\n\", message_log=[AIMessageChunk(content='', additional_kwargs={'tool_calls': [{'index': 0, 'id': 'call_KklybOCDx4v4Mvcsw6og2tGK', 'function': {'arguments': '{\"word\":\"eudca\"}', 'name': 'get_word_length'}, 'type': 'function'}]}, response_metadata={'finish_reason': 'tool_calls', 'model_name': 'gpt-3.5-turbo-0125'}, id='run-f9b15fb9-ff87-4249-9497-50b2f23b9e57', tool_calls=[{'name': 'get_word_length', 'args': {'word': 'eudca'}, 'id': 'call_KklybOCDx4v4Mvcsw6og2tGK', 'type': 'tool_call'}], tool_call_chunks=[{'name': 'get_word_length', 'args': '{\"word\":\"eudca\"}', 'id': 'call_KklybOCDx4v4Mvcsw6og2tGK', 'index': 0, 'type': 'tool_call_chunk'}])], tool_call_id='call_KklybOCDx4v4Mvcsw6og2tGK'), observation=5)],\n",
       "  'messages': [FunctionMessage(content='5', additional_kwargs={}, response_metadata={}, name='get_word_length')]},\n",
       " {'actions': [ToolAgentAction(tool='get_word_length', tool_input={'word': 'eudca'}, log=\"\\nInvoking: `get_word_length` with `{'word': 'eudca'}`\\n\\n\\n\", message_log=[AIMessageChunk(content='', additional_kwargs={'tool_calls': [{'index': 0, 'id': 'call_beSehCSlIub8Ab9ZtKIdAqLV', 'function': {'arguments': '{\"word\":\"eudca\"}', 'name': 'get_word_length'}, 'type': 'function'}]}, response_metadata={'finish_reason': 'tool_calls', 'model_name': 'gpt-3.5-turbo-0125'}, id='run-2fd8a1d2-69d7-43a4-936c-8e4e6d308840', tool_calls=[{'name': 'get_word_length', 'args': {'word': 'eudca'}, 'id': 'call_beSehCSlIub8Ab9ZtKIdAqLV', 'type': 'tool_call'}], tool_call_chunks=[{'name': 'get_word_length', 'args': '{\"word\":\"eudca\"}', 'id': 'call_beSehCSlIub8Ab9ZtKIdAqLV', 'index': 0, 'type': 'tool_call_chunk'}])], tool_call_id='call_beSehCSlIub8Ab9ZtKIdAqLV')],\n",
       "  'messages': [AIMessageChunk(content='', additional_kwargs={'tool_calls': [{'index': 0, 'id': 'call_beSehCSlIub8Ab9ZtKIdAqLV', 'function': {'arguments': '{\"word\":\"eudca\"}', 'name': 'get_word_length'}, 'type': 'function'}]}, response_metadata={'finish_reason': 'tool_calls', 'model_name': 'gpt-3.5-turbo-0125'}, id='run-2fd8a1d2-69d7-43a4-936c-8e4e6d308840', tool_calls=[{'name': 'get_word_length', 'args': {'word': 'eudca'}, 'id': 'call_beSehCSlIub8Ab9ZtKIdAqLV', 'type': 'tool_call'}], tool_call_chunks=[{'name': 'get_word_length', 'args': '{\"word\":\"eudca\"}', 'id': 'call_beSehCSlIub8Ab9ZtKIdAqLV', 'index': 0, 'type': 'tool_call_chunk'}])]},\n",
       " {'steps': [AgentStep(action=ToolAgentAction(tool='get_word_length', tool_input={'word': 'eudca'}, log=\"\\nInvoking: `get_word_length` with `{'word': 'eudca'}`\\n\\n\\n\", message_log=[AIMessageChunk(content='', additional_kwargs={'tool_calls': [{'index': 0, 'id': 'call_beSehCSlIub8Ab9ZtKIdAqLV', 'function': {'arguments': '{\"word\":\"eudca\"}', 'name': 'get_word_length'}, 'type': 'function'}]}, response_metadata={'finish_reason': 'tool_calls', 'model_name': 'gpt-3.5-turbo-0125'}, id='run-2fd8a1d2-69d7-43a4-936c-8e4e6d308840', tool_calls=[{'name': 'get_word_length', 'args': {'word': 'eudca'}, 'id': 'call_beSehCSlIub8Ab9ZtKIdAqLV', 'type': 'tool_call'}], tool_call_chunks=[{'name': 'get_word_length', 'args': '{\"word\":\"eudca\"}', 'id': 'call_beSehCSlIub8Ab9ZtKIdAqLV', 'index': 0, 'type': 'tool_call_chunk'}])], tool_call_id='call_beSehCSlIub8Ab9ZtKIdAqLV'), observation=5)],\n",
       "  'messages': [FunctionMessage(content='5', additional_kwargs={}, response_metadata={}, name='get_word_length')]},\n",
       " {'actions': [ToolAgentAction(tool='get_word_length', tool_input={'word': 'eudca'}, log=\"\\nInvoking: `get_word_length` with `{'word': 'eudca'}`\\n\\n\\n\", message_log=[AIMessageChunk(content='', additional_kwargs={'tool_calls': [{'index': 0, 'id': 'call_Gl1iJuetZnlBvhXn22GGSAOe', 'function': {'arguments': '{\"word\":\"eudca\"}', 'name': 'get_word_length'}, 'type': 'function'}]}, response_metadata={'finish_reason': 'tool_calls', 'model_name': 'gpt-3.5-turbo-0125'}, id='run-2c2c5ef7-a60f-4836-a14b-aa175a04b68b', tool_calls=[{'name': 'get_word_length', 'args': {'word': 'eudca'}, 'id': 'call_Gl1iJuetZnlBvhXn22GGSAOe', 'type': 'tool_call'}], tool_call_chunks=[{'name': 'get_word_length', 'args': '{\"word\":\"eudca\"}', 'id': 'call_Gl1iJuetZnlBvhXn22GGSAOe', 'index': 0, 'type': 'tool_call_chunk'}])], tool_call_id='call_Gl1iJuetZnlBvhXn22GGSAOe')],\n",
       "  'messages': [AIMessageChunk(content='', additional_kwargs={'tool_calls': [{'index': 0, 'id': 'call_Gl1iJuetZnlBvhXn22GGSAOe', 'function': {'arguments': '{\"word\":\"eudca\"}', 'name': 'get_word_length'}, 'type': 'function'}]}, response_metadata={'finish_reason': 'tool_calls', 'model_name': 'gpt-3.5-turbo-0125'}, id='run-2c2c5ef7-a60f-4836-a14b-aa175a04b68b', tool_calls=[{'name': 'get_word_length', 'args': {'word': 'eudca'}, 'id': 'call_Gl1iJuetZnlBvhXn22GGSAOe', 'type': 'tool_call'}], tool_call_chunks=[{'name': 'get_word_length', 'args': '{\"word\":\"eudca\"}', 'id': 'call_Gl1iJuetZnlBvhXn22GGSAOe', 'index': 0, 'type': 'tool_call_chunk'}])]},\n",
       " {'steps': [AgentStep(action=ToolAgentAction(tool='get_word_length', tool_input={'word': 'eudca'}, log=\"\\nInvoking: `get_word_length` with `{'word': 'eudca'}`\\n\\n\\n\", message_log=[AIMessageChunk(content='', additional_kwargs={'tool_calls': [{'index': 0, 'id': 'call_Gl1iJuetZnlBvhXn22GGSAOe', 'function': {'arguments': '{\"word\":\"eudca\"}', 'name': 'get_word_length'}, 'type': 'function'}]}, response_metadata={'finish_reason': 'tool_calls', 'model_name': 'gpt-3.5-turbo-0125'}, id='run-2c2c5ef7-a60f-4836-a14b-aa175a04b68b', tool_calls=[{'name': 'get_word_length', 'args': {'word': 'eudca'}, 'id': 'call_Gl1iJuetZnlBvhXn22GGSAOe', 'type': 'tool_call'}], tool_call_chunks=[{'name': 'get_word_length', 'args': '{\"word\":\"eudca\"}', 'id': 'call_Gl1iJuetZnlBvhXn22GGSAOe', 'index': 0, 'type': 'tool_call_chunk'}])], tool_call_id='call_Gl1iJuetZnlBvhXn22GGSAOe'), observation=5)],\n",
       "  'messages': [FunctionMessage(content='5', additional_kwargs={}, response_metadata={}, name='get_word_length')]},\n",
       " {'actions': [ToolAgentAction(tool='get_word_length', tool_input={'word': 'eudca'}, log=\"\\nInvoking: `get_word_length` with `{'word': 'eudca'}`\\n\\n\\n\", message_log=[AIMessageChunk(content='', additional_kwargs={'tool_calls': [{'index': 0, 'id': 'call_o25zoxKBHFuyhW3MHSbc1Nw5', 'function': {'arguments': '{\"word\":\"eudca\"}', 'name': 'get_word_length'}, 'type': 'function'}]}, response_metadata={'finish_reason': 'tool_calls', 'model_name': 'gpt-3.5-turbo-0125'}, id='run-81803a4a-cbac-4ac9-95b7-d3ed7300ee3d', tool_calls=[{'name': 'get_word_length', 'args': {'word': 'eudca'}, 'id': 'call_o25zoxKBHFuyhW3MHSbc1Nw5', 'type': 'tool_call'}], tool_call_chunks=[{'name': 'get_word_length', 'args': '{\"word\":\"eudca\"}', 'id': 'call_o25zoxKBHFuyhW3MHSbc1Nw5', 'index': 0, 'type': 'tool_call_chunk'}])], tool_call_id='call_o25zoxKBHFuyhW3MHSbc1Nw5')],\n",
       "  'messages': [AIMessageChunk(content='', additional_kwargs={'tool_calls': [{'index': 0, 'id': 'call_o25zoxKBHFuyhW3MHSbc1Nw5', 'function': {'arguments': '{\"word\":\"eudca\"}', 'name': 'get_word_length'}, 'type': 'function'}]}, response_metadata={'finish_reason': 'tool_calls', 'model_name': 'gpt-3.5-turbo-0125'}, id='run-81803a4a-cbac-4ac9-95b7-d3ed7300ee3d', tool_calls=[{'name': 'get_word_length', 'args': {'word': 'eudca'}, 'id': 'call_o25zoxKBHFuyhW3MHSbc1Nw5', 'type': 'tool_call'}], tool_call_chunks=[{'name': 'get_word_length', 'args': '{\"word\":\"eudca\"}', 'id': 'call_o25zoxKBHFuyhW3MHSbc1Nw5', 'index': 0, 'type': 'tool_call_chunk'}])]},\n",
       " {'steps': [AgentStep(action=ToolAgentAction(tool='get_word_length', tool_input={'word': 'eudca'}, log=\"\\nInvoking: `get_word_length` with `{'word': 'eudca'}`\\n\\n\\n\", message_log=[AIMessageChunk(content='', additional_kwargs={'tool_calls': [{'index': 0, 'id': 'call_o25zoxKBHFuyhW3MHSbc1Nw5', 'function': {'arguments': '{\"word\":\"eudca\"}', 'name': 'get_word_length'}, 'type': 'function'}]}, response_metadata={'finish_reason': 'tool_calls', 'model_name': 'gpt-3.5-turbo-0125'}, id='run-81803a4a-cbac-4ac9-95b7-d3ed7300ee3d', tool_calls=[{'name': 'get_word_length', 'args': {'word': 'eudca'}, 'id': 'call_o25zoxKBHFuyhW3MHSbc1Nw5', 'type': 'tool_call'}], tool_call_chunks=[{'name': 'get_word_length', 'args': '{\"word\":\"eudca\"}', 'id': 'call_o25zoxKBHFuyhW3MHSbc1Nw5', 'index': 0, 'type': 'tool_call_chunk'}])], tool_call_id='call_o25zoxKBHFuyhW3MHSbc1Nw5'), observation=5)],\n",
       "  'messages': [FunctionMessage(content='5', additional_kwargs={}, response_metadata={}, name='get_word_length')]},\n",
       " {'actions': [ToolAgentAction(tool='get_word_length', tool_input={'word': 'eudca'}, log=\"\\nInvoking: `get_word_length` with `{'word': 'eudca'}`\\n\\n\\n\", message_log=[AIMessageChunk(content='', additional_kwargs={'tool_calls': [{'index': 0, 'id': 'call_Gl1iJuetZnlBvhXn22GGSAOe', 'function': {'arguments': '{\"word\":\"eudca\"}', 'name': 'get_word_length'}, 'type': 'function'}]}, response_metadata={'finish_reason': 'tool_calls', 'model_name': 'gpt-3.5-turbo-0125'}, id='run-27995e80-05af-458e-910f-7f9ee3954b76', tool_calls=[{'name': 'get_word_length', 'args': {'word': 'eudca'}, 'id': 'call_Gl1iJuetZnlBvhXn22GGSAOe', 'type': 'tool_call'}], tool_call_chunks=[{'name': 'get_word_length', 'args': '{\"word\":\"eudca\"}', 'id': 'call_Gl1iJuetZnlBvhXn22GGSAOe', 'index': 0, 'type': 'tool_call_chunk'}])], tool_call_id='call_Gl1iJuetZnlBvhXn22GGSAOe')],\n",
       "  'messages': [AIMessageChunk(content='', additional_kwargs={'tool_calls': [{'index': 0, 'id': 'call_Gl1iJuetZnlBvhXn22GGSAOe', 'function': {'arguments': '{\"word\":\"eudca\"}', 'name': 'get_word_length'}, 'type': 'function'}]}, response_metadata={'finish_reason': 'tool_calls', 'model_name': 'gpt-3.5-turbo-0125'}, id='run-27995e80-05af-458e-910f-7f9ee3954b76', tool_calls=[{'name': 'get_word_length', 'args': {'word': 'eudca'}, 'id': 'call_Gl1iJuetZnlBvhXn22GGSAOe', 'type': 'tool_call'}], tool_call_chunks=[{'name': 'get_word_length', 'args': '{\"word\":\"eudca\"}', 'id': 'call_Gl1iJuetZnlBvhXn22GGSAOe', 'index': 0, 'type': 'tool_call_chunk'}])]},\n",
       " {'steps': [AgentStep(action=ToolAgentAction(tool='get_word_length', tool_input={'word': 'eudca'}, log=\"\\nInvoking: `get_word_length` with `{'word': 'eudca'}`\\n\\n\\n\", message_log=[AIMessageChunk(content='', additional_kwargs={'tool_calls': [{'index': 0, 'id': 'call_Gl1iJuetZnlBvhXn22GGSAOe', 'function': {'arguments': '{\"word\":\"eudca\"}', 'name': 'get_word_length'}, 'type': 'function'}]}, response_metadata={'finish_reason': 'tool_calls', 'model_name': 'gpt-3.5-turbo-0125'}, id='run-27995e80-05af-458e-910f-7f9ee3954b76', tool_calls=[{'name': 'get_word_length', 'args': {'word': 'eudca'}, 'id': 'call_Gl1iJuetZnlBvhXn22GGSAOe', 'type': 'tool_call'}], tool_call_chunks=[{'name': 'get_word_length', 'args': '{\"word\":\"eudca\"}', 'id': 'call_Gl1iJuetZnlBvhXn22GGSAOe', 'index': 0, 'type': 'tool_call_chunk'}])], tool_call_id='call_Gl1iJuetZnlBvhXn22GGSAOe'), observation=5)],\n",
       "  'messages': [FunctionMessage(content='5', additional_kwargs={}, response_metadata={}, name='get_word_length')]},\n",
       " {'output': 'Agent stopped due to max iterations.',\n",
       "  'messages': [AIMessage(content='', additional_kwargs={}, response_metadata={})]}]"
      ]
     },
     "execution_count": 35,
     "metadata": {},
     "output_type": "execute_result"
    }
   ],
   "source": [
    "list(agent_executor.stream({\"input\": \"How many letters in the word eudca\"}))\n",
    "\n",
    "\n"
   ]
  },
  {
   "cell_type": "code",
   "execution_count": 67,
   "metadata": {},
   "outputs": [],
   "source": [
    "llm=ChatOpenAI()\n",
    "from langchain_core.prompts.chat import ChatPromptTemplate\n",
    "\n",
    "\n",
    "def sql_query(user_input):\n",
    "\n",
    "    prompt = ChatPromptTemplate.from_template(\"you are a helpfull assistent to make best sql queires {input}\")\n",
    "    res= prompt.invoke({\"input\" : \"top 20 records sql query\"})\n",
    "\n",
    "    final=llm.invoke(res)"
   ]
  },
  {
   "cell_type": "code",
   "execution_count": 69,
   "metadata": {},
   "outputs": [
    {
     "name": "stdout",
     "output_type": "stream",
     "text": [
      "To retrieve the top 20 records from a database table, you can use the following SQL query:\n",
      "\n",
      "```sql\n",
      "SELECT *\n",
      "FROM your_table_name\n",
      "ORDER BY your_column_name DESC\n",
      "LIMIT 20;\n",
      "```\n",
      "\n",
      "Replace `your_table_name` with the actual name of your table and `your_column_name` with the column you want to sort the records by. This query will retrieve the top 20 records based on the specified column in descending order.\n"
     ]
    }
   ],
   "source": [
    "print(final.content)"
   ]
  },
  {
   "cell_type": "code",
   "execution_count": 75,
   "metadata": {},
   "outputs": [],
   "source": [
    "def SqlQuerySummarizer(user_input : str)->str:\n",
    "    \"\"\"\n",
    "    A tool that generates SQL queries based on user input.\n",
    "    \"\"\"\n",
    "   \n",
    "    prompt = ChatPromptTemplate.from_messages(\n",
    "        [\n",
    "            (\"system\",\"you are an helpfull assistent , Summarize the SQL Queries\"),\n",
    "        \n",
    "            (\"user\",\"{query}\")\n",
    "        ]\n",
    "    )\n",
    "\n",
    "    chain = prompt | llm \n",
    "\n",
    "    return chain.invoke({\"query\":user_input})\n",
    "\n"
   ]
  },
  {
   "cell_type": "code",
   "execution_count": 76,
   "metadata": {},
   "outputs": [
    {
     "data": {
      "text/plain": [
       "'To retrieve the top 10 records from a database table, you can use the following SQL query:\\n\\n```sql\\nSELECT *\\nFROM your_table\\nORDER BY column_name DESC\\nLIMIT 10;\\n```\\n\\nReplace `your_table` with the name of your table and `column_name` with the column you want to order the records by. This query will return the top 10 records based on the specified column in descending order.'"
      ]
     },
     "execution_count": 76,
     "metadata": {},
     "output_type": "execute_result"
    }
   ],
   "source": [
    "res=SqlQuerySummarizer(\"top 10 recrods return sql quires\")\n",
    "res.content"
   ]
  },
  {
   "cell_type": "code",
   "execution_count": 77,
   "metadata": {},
   "outputs": [
    {
     "name": "stdout",
     "output_type": "stream",
     "text": [
      "To retrieve the top 10 records from a database table, you can use the following SQL query:\n",
      "\n",
      "```sql\n",
      "SELECT *\n",
      "FROM your_table\n",
      "ORDER BY column_name DESC\n",
      "LIMIT 10;\n",
      "```\n",
      "\n",
      "Replace `your_table` with the name of your table and `column_name` with the column you want to order the records by. This query will return the top 10 records based on the specified column in descending order.\n"
     ]
    }
   ],
   "source": [
    "print(res.content)"
   ]
  },
  {
   "cell_type": "code",
   "execution_count": null,
   "metadata": {},
   "outputs": [],
   "source": []
  }
 ],
 "metadata": {
  "kernelspec": {
   "display_name": "RagLLM",
   "language": "python",
   "name": "python3"
  },
  "language_info": {
   "codemirror_mode": {
    "name": "ipython",
    "version": 3
   },
   "file_extension": ".py",
   "mimetype": "text/x-python",
   "name": "python",
   "nbconvert_exporter": "python",
   "pygments_lexer": "ipython3",
   "version": "3.10.15"
  }
 },
 "nbformat": 4,
 "nbformat_minor": 2
}
