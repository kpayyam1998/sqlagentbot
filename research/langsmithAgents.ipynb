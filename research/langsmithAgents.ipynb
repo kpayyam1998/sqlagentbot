{
 "cells": [
  {
   "cell_type": "code",
   "execution_count": null,
   "metadata": {},
   "outputs": [],
   "source": [
    "import os\n",
    "from langchain.prompts import ChatPromptTemplate,MessagesPlaceholder\n",
    "from langchain_openai import ChatOpenAI\n",
    "from langgraph.prebuilt import create_react_agent\n",
    "\n",
    "llm = ChatOpenAI(api_key=os.getenv('OPENAI_API_KEY'))\n",
    "\n"
   ]
  },
  {
   "cell_type": "code",
   "execution_count": null,
   "metadata": {},
   "outputs": [],
   "source": []
  },
  {
   "cell_type": "code",
   "execution_count": 35,
   "metadata": {},
   "outputs": [],
   "source": [
    "from langchain.tools import tool\n",
    "\n",
    "\n",
    "\n",
    "from langchain_core.tools import tool\n",
    "\n",
    "@tool\n",
    "def sql_tool(query):\n",
    "\n",
    "    \"\"\"\n",
    "    Generates SQL queries based on the user's input question.\n",
    "    If the query is unclear, asks for more information.\n",
    "    \"\"\"\n",
    "    prompt = ChatPromptTemplate.from_messages(\n",
    "            [\n",
    "                (\"system\",\"you are an helpfull assistent to answer the user SQL releated questions & making SQL Queries.if dont know answer say to use provoide more informationv \"),\n",
    "                (\"human\", \"{input}\"),\n",
    "\n",
    "            ]\n",
    "        )\n",
    "\n",
    "    chain = prompt | llm\n",
    "        \n",
    "    response = chain.invoke({\"input\": query})\n",
    "\n",
    "    return response.content\n",
    "\n",
    "@tool\n",
    "def marketing_tool(query):\n",
    "    \"\"\"\n",
    "    \n",
    "    Generates marketing strategies based on the user's input question.\n",
    "    If the query is unclear, asks for more information.\n",
    "     \"\"\"\n",
    "\n",
    "    prompt = ChatPromptTemplate.from_messages(\n",
    "        [\n",
    "            (\"system\",\"you are an helpfull assistent to answer the user company marketing releated questions using advice they can improve their business.if dont know answer say to use provoide more informationv \"),\n",
    "            (\"human\", \"{input}\"),\n",
    "\n",
    "        ]\n",
    "    )\n",
    "\n",
    "    chain = prompt | llm\n",
    "    \n",
    "    response = chain.invoke({\"input\": query})\n",
    "    \n"
   ]
  },
  {
   "cell_type": "code",
   "execution_count": 37,
   "metadata": {},
   "outputs": [],
   "source": [
    "\n",
    "tools = [sql_tool,marketing_tool]\n",
    "\n",
    "agent_excutor = create_react_agent(llm, tools)\n"
   ]
  },
  {
   "cell_type": "code",
   "execution_count": 25,
   "metadata": {},
   "outputs": [],
   "source": [
    "# Run Agent\n",
    "prompt = \"How to speak english with in 30 days?\"\n",
    "response = agent_excutor.invoke({\"messages\": prompt})"
   ]
  },
  {
   "cell_type": "code",
   "execution_count": 26,
   "metadata": {},
   "outputs": [
    {
     "data": {
      "text/plain": [
       "{'messages': [HumanMessage(content='How to speak english with in 30 days?', additional_kwargs={}, response_metadata={}, id='08325582-aa12-4035-8064-d6d0d904432e'),\n",
       "  AIMessage(content='', additional_kwargs={'tool_calls': [{'id': 'call_FT1sqysz6EExzj32XaLjJzTG', 'function': {'arguments': '{\"query\": \"How to learn English in 30 days?\"}', 'name': 'marketing_tool'}, 'type': 'function'}, {'id': 'call_qddnjFq2fPpZVJFtB5D9HGMu', 'function': {'arguments': '{\"query\": \"How to improve English speaking skills in 30 days?\"}', 'name': 'sql_tool'}, 'type': 'function'}], 'refusal': None}, response_metadata={'token_usage': {'completion_tokens': 62, 'prompt_tokens': 109, 'total_tokens': 171, 'completion_tokens_details': {'audio_tokens': 0, 'reasoning_tokens': 0, 'accepted_prediction_tokens': 0, 'rejected_prediction_tokens': 0}, 'prompt_tokens_details': {'audio_tokens': 0, 'cached_tokens': 0}}, 'model_name': 'gpt-3.5-turbo-0125', 'system_fingerprint': None, 'finish_reason': 'tool_calls', 'logprobs': None}, id='run-9ca1af8a-3926-4f07-b137-8936908fb365-0', tool_calls=[{'name': 'marketing_tool', 'args': {'query': 'How to learn English in 30 days?'}, 'id': 'call_FT1sqysz6EExzj32XaLjJzTG', 'type': 'tool_call'}, {'name': 'sql_tool', 'args': {'query': 'How to improve English speaking skills in 30 days?'}, 'id': 'call_qddnjFq2fPpZVJFtB5D9HGMu', 'type': 'tool_call'}], usage_metadata={'input_tokens': 109, 'output_tokens': 62, 'total_tokens': 171, 'input_token_details': {'audio': 0, 'cache_read': 0}, 'output_token_details': {'audio': 0, 'reasoning': 0}}),\n",
       "  ToolMessage(content='Error: KeyError(\"Input to ChatPromptTemplate is missing variables {\\'chat_history\\'}.  Expected: [\\'chat_history\\', \\'input\\'] Received: [\\'input\\']\\\\nNote: if you intended {chat_history} to be part of the string and not a variable, please escape it with double curly braces like: \\'{{chat_history}}\\'.\\\\nFor troubleshooting, visit: https://python.langchain.com/docs/troubleshooting/errors/INVALID_PROMPT_INPUT\")\\n Please fix your mistakes.', name='marketing_tool', id='89161473-71c5-4f37-b19f-5fbf447d7460', tool_call_id='call_FT1sqysz6EExzj32XaLjJzTG', status='error'),\n",
       "  ToolMessage(content='Error: KeyError(\"Input to ChatPromptTemplate is missing variables {\\'chat_history\\'}.  Expected: [\\'chat_history\\', \\'input\\'] Received: [\\'input\\']\\\\nNote: if you intended {chat_history} to be part of the string and not a variable, please escape it with double curly braces like: \\'{{chat_history}}\\'.\\\\nFor troubleshooting, visit: https://python.langchain.com/docs/troubleshooting/errors/INVALID_PROMPT_INPUT\")\\n Please fix your mistakes.', name='sql_tool', id='7bfbbfdc-0d3f-472c-afc1-86fab622fd5f', tool_call_id='call_qddnjFq2fPpZVJFtB5D9HGMu', status='error'),\n",
       "  AIMessage(content='It seems there was an error in processing the request. Let me retry and provide you with information on how to speak English in 30 days.', additional_kwargs={'tool_calls': [{'id': 'call_L06y8bAjCXONMj7dM84Ayy9F', 'function': {'arguments': '{\"query\": \"How to learn English in 30 days?\"}', 'name': 'marketing_tool'}, 'type': 'function'}, {'id': 'call_Gue5MMeDKOFXmeGjHalAh0C4', 'function': {'arguments': '{\"query\": \"How to improve English speaking skills in 30 days?\"}', 'name': 'sql_tool'}, 'type': 'function'}], 'refusal': None}, response_metadata={'token_usage': {'completion_tokens': 92, 'prompt_tokens': 381, 'total_tokens': 473, 'completion_tokens_details': {'audio_tokens': 0, 'reasoning_tokens': 0, 'accepted_prediction_tokens': 0, 'rejected_prediction_tokens': 0}, 'prompt_tokens_details': {'audio_tokens': 0, 'cached_tokens': 0}}, 'model_name': 'gpt-3.5-turbo-0125', 'system_fingerprint': None, 'finish_reason': 'tool_calls', 'logprobs': None}, id='run-bff75fe0-9e9d-4505-8032-89e3c92b8a50-0', tool_calls=[{'name': 'marketing_tool', 'args': {'query': 'How to learn English in 30 days?'}, 'id': 'call_L06y8bAjCXONMj7dM84Ayy9F', 'type': 'tool_call'}, {'name': 'sql_tool', 'args': {'query': 'How to improve English speaking skills in 30 days?'}, 'id': 'call_Gue5MMeDKOFXmeGjHalAh0C4', 'type': 'tool_call'}], usage_metadata={'input_tokens': 381, 'output_tokens': 92, 'total_tokens': 473, 'input_token_details': {'audio': 0, 'cache_read': 0}, 'output_token_details': {'audio': 0, 'reasoning': 0}}),\n",
       "  ToolMessage(content='Error: KeyError(\"Input to ChatPromptTemplate is missing variables {\\'chat_history\\'}.  Expected: [\\'chat_history\\', \\'input\\'] Received: [\\'input\\']\\\\nNote: if you intended {chat_history} to be part of the string and not a variable, please escape it with double curly braces like: \\'{{chat_history}}\\'.\\\\nFor troubleshooting, visit: https://python.langchain.com/docs/troubleshooting/errors/INVALID_PROMPT_INPUT\")\\n Please fix your mistakes.', name='marketing_tool', id='03cb0be9-f054-4feb-a779-90b2956ae89e', tool_call_id='call_L06y8bAjCXONMj7dM84Ayy9F', status='error'),\n",
       "  ToolMessage(content='Error: KeyError(\"Input to ChatPromptTemplate is missing variables {\\'chat_history\\'}.  Expected: [\\'chat_history\\', \\'input\\'] Received: [\\'input\\']\\\\nNote: if you intended {chat_history} to be part of the string and not a variable, please escape it with double curly braces like: \\'{{chat_history}}\\'.\\\\nFor troubleshooting, visit: https://python.langchain.com/docs/troubleshooting/errors/INVALID_PROMPT_INPUT\")\\n Please fix your mistakes.', name='sql_tool', id='2c63ef5d-1ac4-4bc3-8a6b-326c14ef87a1', tool_call_id='call_Gue5MMeDKOFXmeGjHalAh0C4', status='error'),\n",
       "  AIMessage(content=\"It seems there is an issue with processing the request. Let me provide you with some tips on how to speak English in 30 days:\\n\\n1. **Immerse Yourself**: Surround yourself with English-speaking content such as movies, TV shows, and music.\\n2. **Practice Speaking**: Engage in conversation with native speakers or language exchange partners.\\n3. **Use Language Learning Apps**: Utilize language learning apps like Duolingo, Babbel, or Rosetta Stone.\\n4. **Set Daily Goals**: Practice English every day, even if it's just for a few minutes.\\n5. **Join English Language Classes**: Consider enrolling in English language classes or workshops.\\n\\nThese steps can help you improve your English speaking skills within 30 days.\", additional_kwargs={'refusal': None}, response_metadata={'token_usage': {'completion_tokens': 152, 'prompt_tokens': 686, 'total_tokens': 838, 'completion_tokens_details': {'audio_tokens': 0, 'reasoning_tokens': 0, 'accepted_prediction_tokens': 0, 'rejected_prediction_tokens': 0}, 'prompt_tokens_details': {'audio_tokens': 0, 'cached_tokens': 0}}, 'model_name': 'gpt-3.5-turbo-0125', 'system_fingerprint': None, 'finish_reason': 'stop', 'logprobs': None}, id='run-0c57de57-86a0-4217-b33d-2e33f7e18baf-0', usage_metadata={'input_tokens': 686, 'output_tokens': 152, 'total_tokens': 838, 'input_token_details': {'audio': 0, 'cache_read': 0}, 'output_token_details': {'audio': 0, 'reasoning': 0}})]}"
      ]
     },
     "execution_count": 26,
     "metadata": {},
     "output_type": "execute_result"
    }
   ],
   "source": [
    "response"
   ]
  },
  {
   "cell_type": "code",
   "execution_count": 38,
   "metadata": {},
   "outputs": [],
   "source": [
    "prompt = \"Generate SQL Query top 10 records retrive query?\"\n",
    "response = agent_excutor.invoke({\"messages\": prompt})"
   ]
  },
  {
   "cell_type": "code",
   "execution_count": 48,
   "metadata": {},
   "outputs": [],
   "source": [
    "from langchain_core.messages import HumanMessage\n"
   ]
  },
  {
   "cell_type": "code",
   "execution_count": 47,
   "metadata": {},
   "outputs": [
    {
     "data": {
      "text/plain": [
       "[HumanMessage(content='Generate SQL Query top 10 records retrive query?', additional_kwargs={}, response_metadata={}, id='8003ad67-6ec3-4970-8621-54873a4e2ee4'),\n",
       " AIMessage(content='', additional_kwargs={'tool_calls': [{'id': 'call_L4p5DFjul0k0xPppW8xdL8zi', 'function': {'arguments': '{\"query\":\"SELECT * FROM table_name LIMIT 10;\"}', 'name': 'sql_tool'}, 'type': 'function'}], 'refusal': None}, response_metadata={'token_usage': {'completion_tokens': 22, 'prompt_tokens': 110, 'total_tokens': 132, 'completion_tokens_details': {'audio_tokens': 0, 'reasoning_tokens': 0, 'accepted_prediction_tokens': 0, 'rejected_prediction_tokens': 0}, 'prompt_tokens_details': {'audio_tokens': 0, 'cached_tokens': 0}}, 'model_name': 'gpt-3.5-turbo-0125', 'system_fingerprint': None, 'finish_reason': 'tool_calls', 'logprobs': None}, id='run-53c2b814-9494-4a6a-aaa2-243adadc40f0-0', tool_calls=[{'name': 'sql_tool', 'args': {'query': 'SELECT * FROM table_name LIMIT 10;'}, 'id': 'call_L4p5DFjul0k0xPppW8xdL8zi', 'type': 'tool_call'}], usage_metadata={'input_tokens': 110, 'output_tokens': 22, 'total_tokens': 132, 'input_token_details': {'audio': 0, 'cache_read': 0}, 'output_token_details': {'audio': 0, 'reasoning': 0}}),\n",
       " ToolMessage(content='The SQL query you provided is selecting all columns from the table named \"table_name\" and limiting the results to 10 rows. This query will return the first 10 rows from the table. If you have a specific question or need further assistance, please let me know!', name='sql_tool', id='d3db1742-391c-4096-8d1c-1455160c4c2f', tool_call_id='call_L4p5DFjul0k0xPppW8xdL8zi'),\n",
       " AIMessage(content='Here is the SQL query to retrieve the top 10 records from a table:\\n\\n```sql\\nSELECT * FROM table_name LIMIT 10;\\n```\\n\\nThis query will select all columns from the table named \"table_name\" and limit the results to 10 rows. If you need any more assistance or have further questions, feel free to ask!', additional_kwargs={'refusal': None}, response_metadata={'token_usage': {'completion_tokens': 70, 'prompt_tokens': 195, 'total_tokens': 265, 'completion_tokens_details': {'audio_tokens': 0, 'reasoning_tokens': 0, 'accepted_prediction_tokens': 0, 'rejected_prediction_tokens': 0}, 'prompt_tokens_details': {'audio_tokens': 0, 'cached_tokens': 0}}, 'model_name': 'gpt-3.5-turbo-0125', 'system_fingerprint': None, 'finish_reason': 'stop', 'logprobs': None}, id='run-ca15948d-8879-44d7-8441-eb1b324d6864-0', usage_metadata={'input_tokens': 195, 'output_tokens': 70, 'total_tokens': 265, 'input_token_details': {'audio': 0, 'cache_read': 0}, 'output_token_details': {'audio': 0, 'reasoning': 0}})]"
      ]
     },
     "execution_count": 47,
     "metadata": {},
     "output_type": "execute_result"
    }
   ],
   "source": [
    "response['messages']"
   ]
  },
  {
   "cell_type": "code",
   "execution_count": 49,
   "metadata": {},
   "outputs": [
    {
     "name": "stdout",
     "output_type": "stream",
     "text": [
      "{'agent': {'messages': [AIMessage(content='', additional_kwargs={'tool_calls': [{'id': 'call_TvQJn3p9e8zGLTKRO67eipJQ', 'function': {'arguments': '{\"query\":\"SELECT * FROM table_name LIMIT 10;\"}', 'name': 'sql_tool'}, 'type': 'function'}], 'refusal': None}, response_metadata={'token_usage': {'completion_tokens': 22, 'prompt_tokens': 110, 'total_tokens': 132, 'completion_tokens_details': {'audio_tokens': 0, 'reasoning_tokens': 0, 'accepted_prediction_tokens': 0, 'rejected_prediction_tokens': 0}, 'prompt_tokens_details': {'audio_tokens': 0, 'cached_tokens': 0}}, 'model_name': 'gpt-3.5-turbo-0125', 'system_fingerprint': None, 'finish_reason': 'tool_calls', 'logprobs': None}, id='run-7d898d48-d5ff-46ca-a038-caeb9bf49668-0', tool_calls=[{'name': 'sql_tool', 'args': {'query': 'SELECT * FROM table_name LIMIT 10;'}, 'id': 'call_TvQJn3p9e8zGLTKRO67eipJQ', 'type': 'tool_call'}], usage_metadata={'input_tokens': 110, 'output_tokens': 22, 'total_tokens': 132, 'input_token_details': {'audio': 0, 'cache_read': 0}, 'output_token_details': {'audio': 0, 'reasoning': 0}})]}}\n",
      "--------------------------------\n",
      "{'tools': {'messages': [ToolMessage(content='The query you provided is selecting all columns from the table \"table_name\" and limiting the results to 10 rows. This will display the first 10 rows from the table. If you have a specific question or need further assistance, please let me know.', name='sql_tool', id='0d5b7d39-003d-4487-8d45-288be259e8ed', tool_call_id='call_TvQJn3p9e8zGLTKRO67eipJQ')]}}\n",
      "--------------------------------\n",
      "{'agent': {'messages': [AIMessage(content='The SQL query to retrieve the top 10 records from a table is:\\n```\\nSELECT * FROM table_name LIMIT 10;\\n``` \\n\\nThis query will return the first 10 records from the specified table. If you have any more questions or need further assistance, feel free to ask.', additional_kwargs={'refusal': None}, response_metadata={'token_usage': {'completion_tokens': 59, 'prompt_tokens': 192, 'total_tokens': 251, 'completion_tokens_details': {'audio_tokens': 0, 'reasoning_tokens': 0, 'accepted_prediction_tokens': 0, 'rejected_prediction_tokens': 0}, 'prompt_tokens_details': {'audio_tokens': 0, 'cached_tokens': 0}}, 'model_name': 'gpt-3.5-turbo-0125', 'system_fingerprint': None, 'finish_reason': 'stop', 'logprobs': None}, id='run-2f93328b-b2b2-4d3a-9000-871fbe7ccb10-0', usage_metadata={'input_tokens': 192, 'output_tokens': 59, 'total_tokens': 251, 'input_token_details': {'audio': 0, 'cache_read': 0}, 'output_token_details': {'audio': 0, 'reasoning': 0}})]}}\n",
      "--------------------------------\n"
     ]
    }
   ],
   "source": [
    "config = {\"configurable\": {\"thread_id\": \"abc123\"}}\n",
    "\n",
    "for chunk in agent_excutor.stream(\n",
    "    {\"messages\": [HumanMessage(content = prompt)]},config=config):\n",
    "    print(chunk)\n",
    "    print(\"--------------------------------\")"
   ]
  },
  {
   "cell_type": "code",
   "execution_count": null,
   "metadata": {},
   "outputs": [],
   "source": []
  }
 ],
 "metadata": {
  "kernelspec": {
   "display_name": "RagLLM",
   "language": "python",
   "name": "python3"
  },
  "language_info": {
   "codemirror_mode": {
    "name": "ipython",
    "version": 3
   },
   "file_extension": ".py",
   "mimetype": "text/x-python",
   "name": "python",
   "nbconvert_exporter": "python",
   "pygments_lexer": "ipython3",
   "version": "3.10.15"
  }
 },
 "nbformat": 4,
 "nbformat_minor": 2
}
