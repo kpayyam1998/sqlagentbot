{
 "cells": [
  {
   "cell_type": "code",
   "execution_count": 11,
   "metadata": {},
   "outputs": [],
   "source": [
    "from dotenv import load_dotenv\n",
    "from pymongo import MongoClient\n",
    "from openai import OpenAI\n",
    "import uuid\n",
    "load_dotenv()\n",
    "openai = OpenAI()"
   ]
  },
  {
   "cell_type": "code",
   "execution_count": 4,
   "metadata": {},
   "outputs": [],
   "source": [
    "prompt = \"who is the president of india ?\"\n",
    "\n",
    "response=openai.chat.completions.create(\n",
    "    model = \"gpt-4o\",\n",
    "    messages=[\n",
    "        {\"role\": \"user\", \"content\": prompt},\n",
    "    ],\n",
    "    temperature=0.7,\n",
    "    max_tokens=100\n",
    ")"
   ]
  },
  {
   "cell_type": "code",
   "execution_count": 10,
   "metadata": {},
   "outputs": [],
   "source": [
    "data=response.choices[0].message.content"
   ]
  },
  {
   "cell_type": "code",
   "execution_count": 21,
   "metadata": {},
   "outputs": [
    {
     "name": "stdout",
     "output_type": "stream",
     "text": [
      "Mongo connection created\n"
     ]
    }
   ],
   "source": [
    "try:\n",
    "    conn=MongoClient()\n",
    "    print(\"Mongo connection created\")\n",
    "except Exception as e:\n",
    "    print(f\"An error occurred: {e}\")"
   ]
  },
  {
   "cell_type": "code",
   "execution_count": 22,
   "metadata": {},
   "outputs": [],
   "source": [
    "# database\n",
    "db=conn.database\n"
   ]
  },
  {
   "cell_type": "code",
   "execution_count": 17,
   "metadata": {},
   "outputs": [],
   "source": [
    "collection = db.my_gfg_collection"
   ]
  },
  {
   "cell_type": "code",
   "execution_count": 23,
   "metadata": {},
   "outputs": [
    {
     "data": {
      "text/plain": [
       "Collection(Database(MongoClient(host=['localhost:27017'], document_class=dict, tz_aware=False, connect=True), 'database'), 'my_gfg_collection')"
      ]
     },
     "execution_count": 23,
     "metadata": {},
     "output_type": "execute_result"
    }
   ],
   "source": [
    "collection"
   ]
  },
  {
   "cell_type": "code",
   "execution_count": 12,
   "metadata": {},
   "outputs": [],
   "source": [
    "import os\n",
    "import json\n",
    "import uuid"
   ]
  },
  {
   "cell_type": "code",
   "execution_count": 37,
   "metadata": {},
   "outputs": [],
   "source": [
    "session_id = str(uuid.uuid4())\n",
    "\n",
    "# Define the user input data to be appended\n",
    "prompt = \"hello\"  # Replace with actual prompt as needed\n",
    "additional_info = \"hello world python\"  # Replace with actual additional info\n",
    "\n",
    "new_data = {\n",
    "    \"session_id\": session_id,\n",
    "    \"user_input\": {\n",
    "        \"question\": prompt,\n",
    "        \"additional_info\": additional_info\n",
    "    }\n",
    "}\n",
    "\n",
    "\n",
    "folder_name = \"AIResponse\"\n",
    "file_name = \"response.json\"\n",
    "file = os.path.join(folder_name, file_name)\n",
    "\n",
    "# Check if directory exists, if not create it\n",
    "os.makedirs(folder_name,exist_ok=True)\n",
    "\n",
    "\n",
    "if os.path.exists(file):\n",
    "    with open(file, \"r\") as f:\n",
    "        data = json.load(f)\n",
    "else:\n",
    "    data = []\n",
    "\n",
    "data.append(new_data)\n",
    "\n",
    "# Write the updated list back to the JSON file\n",
    "with open(file, 'w') as f:\n",
    "    json.dump(data, f , indent=4)"
   ]
  },
  {
   "cell_type": "code",
   "execution_count": 34,
   "metadata": {},
   "outputs": [
    {
     "name": "stdout",
     "output_type": "stream",
     "text": [
      "New session added to 'AIResponse\\responses.json' with session_id: 312fe89a-57fe-4148-bc32-3c922188569a\n"
     ]
    }
   ],
   "source": [
    "import os\n",
    "import json\n",
    "import uuid\n",
    "\n",
    "# Define the folder and file names\n",
    "folder_name = \"AIResponse\"\n",
    "file_name = \"responses.json\"\n",
    "file_path = os.path.join(folder_name, file_name)\n",
    "\n",
    "# Ensure the folder exists\n",
    "os.makedirs(folder_name, exist_ok=True)\n",
    "\n",
    "# Generate a new unique session ID\n",
    "session_id = str(uuid.uuid4())\n",
    "\n",
    "# Define the user input data to be appended\n",
    "prompt = \"hello\"  # Replace with actual prompt as needed\n",
    "additional_info = \"hello world python\"  # Replace with actual additional info\n",
    "\n",
    "new_data = {\n",
    "    \"session_id\": session_id,\n",
    "    \"user_input\": {\n",
    "        \"question\": prompt,\n",
    "        \"additional_info\": additional_info\n",
    "    }\n",
    "}\n",
    "\n",
    "# Load existing data from the file, or initialize an empty list if the file doesn't exist\n",
    "if os.path.exists(file_path):\n",
    "    with open(file_path, 'r') as f:\n",
    "        data = json.load(f)\n",
    "else:\n",
    "    data = []\n",
    "\n",
    "# Append the new data to the existing list\n",
    "data.append(new_data)\n",
    "\n",
    "# Write the updated list back to the JSON file\n",
    "with open(file_path, 'w') as f:\n",
    "    json.dump(data, f, indent=4)\n",
    "\n",
    "print(f\"New session added to '{file_path}' with session_id: {session_id}\")\n"
   ]
  },
  {
   "cell_type": "code",
   "execution_count": 2,
   "metadata": {},
   "outputs": [],
   "source": [
    "# Chat History with version 1 document\n"
   ]
  },
  {
   "cell_type": "code",
   "execution_count": 1,
   "metadata": {},
   "outputs": [],
   "source": [
    "from langchain_openai import ChatOpenAI,OpenAIEmbeddings\n",
    "import os\n",
    "\n",
    "llm = ChatOpenAI(api_key=os.getenv(\"OPENAI_API_KEY\"))"
   ]
  },
  {
   "cell_type": "code",
   "execution_count": 2,
   "metadata": {},
   "outputs": [],
   "source": [
    "from langchain.chains import create_retrieval_chain\n",
    "from langchain.chains.combine_documents import create_stuff_documents_chain\n",
    "from langchain.prompts import ChatPromptTemplate,MessagesPlaceholder\n",
    "from langchain_chroma import Chroma"
   ]
  },
  {
   "cell_type": "code",
   "execution_count": 18,
   "metadata": {},
   "outputs": [],
   "source": [
    "def loadchromadb():\n",
    "        vector_store = Chroma(persist_directory=\"../ChormaDB\",embedding_function=OpenAIEmbeddings(model=\"text-embedding-3-large\"))\n",
    "\n",
    "        retriever = vector_store.as_retriever(k=3)\n",
    "\n",
    "        return retriever"
   ]
  },
  {
   "cell_type": "code",
   "execution_count": 19,
   "metadata": {},
   "outputs": [],
   "source": [
    "from langchain.chains import create_history_aware_retriever\n",
    "from langchain_core.prompts import ChatPromptTemplate, MessagesPlaceholder\n",
    "\n",
    "contextualize_q_system_prompt = \"\"\"Given a chat history and the latest user question \\\n",
    "which might reference context in the chat history, formulate a standalone question \\\n",
    "which can be understood without the chat history. Do NOT answer the question, \\\n",
    "just reformulate it if needed and otherwise return it as is.\"\"\"\n",
    "contextualize_q_prompt = ChatPromptTemplate.from_messages(\n",
    "    [\n",
    "        (\"system\", contextualize_q_system_prompt),\n",
    "        MessagesPlaceholder(\"chat_history\"),\n",
    "        (\"human\", \"{input}\"),\n",
    "    ]\n",
    ")\n",
    "\n",
    "retriever = loadchromadb()\n",
    "\n",
    "history_aware_retriever = create_history_aware_retriever(\n",
    "    llm, retriever, contextualize_q_prompt\n",
    ")\n",
    "\n",
    "qa_system_prompt = \"\"\"You are an assistant for question-answering tasks. \\\n",
    "Use the following pieces of retrieved context to answer the question. \\\n",
    "If you don't know the answer, just say that you don't know. \\\n",
    "Use three sentences maximum and keep the answer concise.\\\n",
    "\n",
    "{context}\"\"\"\n",
    "\n",
    "\n",
    "qa_prompt = ChatPromptTemplate.from_messages(\n",
    "    [\n",
    "        (\"system\", qa_system_prompt),\n",
    "        MessagesPlaceholder(\"chat_history\"),\n",
    "        (\"human\", \"{input}\"),\n",
    "    ]\n",
    ")\n",
    "\n",
    "question_answer_chain = create_stuff_documents_chain(llm, qa_prompt)\n",
    "\n",
    "\n",
    "rag_chain = create_retrieval_chain(history_aware_retriever, question_answer_chain)"
   ]
  },
  {
   "cell_type": "code",
   "execution_count": 20,
   "metadata": {},
   "outputs": [],
   "source": [
    "chat_history = []\n",
    "\n",
    "question = \" Explain about this Millennia Credit Card card and offer details ?\"\n",
    "ai_msg_1 = rag_chain.invoke({\"input\": question, \"chat_history\": chat_history})\n"
   ]
  },
  {
   "cell_type": "code",
   "execution_count": 21,
   "metadata": {},
   "outputs": [
    {
     "data": {
      "text/plain": [
       "{'input': ' Explain about this Millennia Credit Card card and offer details ?',\n",
       " 'chat_history': [],\n",
       " 'context': [Document(metadata={'source': 'https://www.hdfcbank.com/personal/pay/cards/credit-cards'}, page_content='10X CashPoints on Amazon, BigBasket, Flipkart, Reliance Smart SuperStore & Swiggy\\n\\n5X CashPoints on EMI spends at merchant locations\\n\\n2 CashPoints on all other spends ( Excluding fuel, Wallets loads )\\n\\nGift vouchers worth upto ₹2000 annually\\n\\nAPPLY ONLINE APPLY ONLINE KNOW MORE KNOW MORE\\n\\nMillennia Credit Card\\n\\nMillennia Credit Card\\n\\nThe Best CashBack Credit Card\\n\\n5% Cashback on Amazon, BookMyShow, Cult.fit, Flipkart, Myntra, Sony LIV, Swiggy, Tata CLiQ, Uber and Zomato\\n\\n1% cashback on all other spends (except Fuel) including EMI & Wallet transactions\\n\\n₹1000 worth gift vouchers on spends of ₹1,00,000 and above in each calendar quarter\\n\\nAPPLY ONLINE APPLY ONLINE Know more Know more\\n\\nFreedom Credit Card\\n\\nFreedom Credit CardLifestyle\\n\\nThe Best Card for Your Everyday Spends & Big Purchases\\n\\nFestive Offer! Enjoy Lifetime Free Credit Card & Vouchers worth upto INR 5,000\\n\\nEarn 5X CashPoints on EMI spends at merchant locations'),\n",
       "  Document(metadata={'source': 'https://www.hdfcbank.com/personal/pay/cards/credit-cards'}, page_content='10X CashPoints on Amazon, BigBasket, Flipkart, Reliance Smart SuperStore & Swiggy\\n\\n5X CashPoints on EMI spends at merchant locations\\n\\n2 CashPoints on all other spends ( Excluding fuel, Wallets loads )\\n\\nGift vouchers worth upto ₹2000 annually\\n\\nAPPLY ONLINE APPLY ONLINE KNOW MORE KNOW MORE\\n\\nMillennia Credit Card\\n\\nMillennia Credit Card\\n\\nThe Best CashBack Credit Card\\n\\n5% Cashback on Amazon, BookMyShow, Cult.fit, Flipkart, Myntra, Sony LIV, Swiggy, Tata CLiQ, Uber and Zomato\\n\\n1% cashback on all other spends (except Fuel) including EMI & Wallet transactions\\n\\n₹1000 worth gift vouchers on spends of ₹1,00,000 and above in each calendar quarter\\n\\nAPPLY ONLINE APPLY ONLINE Know more Know more\\n\\nFreedom Credit Card\\n\\nFreedom Credit CardLifestyle\\n\\nThe Best Card for Your Everyday Spends & Big Purchases\\n\\nFestive Offer! Enjoy Lifetime Free Credit Card & Vouchers worth upto INR 5,000\\n\\nEarn 5X CashPoints on EMI spends at merchant locations'),\n",
       "  Document(metadata={'source': 'https://www.hdfcbank.com/personal/pay/cards/credit-cards'}, page_content='10X CashPoints on Amazon, BigBasket, Flipkart, Reliance Smart SuperStore & Swiggy\\n\\n5X CashPoints on EMI spends at merchant locations\\n\\n2 CashPoints on all other spends ( Excluding fuel, Wallets loads )\\n\\nGift vouchers worth upto ₹2000 annually\\n\\nAPPLY ONLINE APPLY ONLINE KNOW MORE KNOW MORE\\n\\nMillennia Credit Card\\n\\nMillennia Credit Card\\n\\nThe Best CashBack Credit Card\\n\\n5% Cashback on Amazon, BookMyShow, Cult.fit, Flipkart, Myntra, Sony LIV, Swiggy, Tata CLiQ, Uber and Zomato\\n\\n1% cashback on all other spends (except Fuel) including EMI & Wallet transactions\\n\\n₹1000 worth gift vouchers on spends of ₹1,00,000 and above in each calendar quarter\\n\\nAPPLY ONLINE APPLY ONLINE Know more Know more\\n\\nFreedom Credit Card\\n\\nFreedom Credit CardLifestyle\\n\\nThe Best Card for Your Everyday Spends & Big Purchases\\n\\nFestive Offer! Enjoy Lifetime Free Credit Card & Vouchers worth upto INR 5,000\\n\\nEarn 5X CashPoints on EMI spends at merchant locations'),\n",
       "  Document(metadata={'source': 'https://www.hdfcbank.com/personal/pay/cards/credit-cards'}, page_content='Customize your card reflecting your lifestyle by choosing a card design and a billing cycle that suits you\\n\\nApply & Control your Pixel Credit Card on PayZapp\\n\\nApply via PayZapp Apply via PayZapp Know More Know More\\n\\nMillennia Credit Card\\n\\nMillennia Credit Card\\n\\nThe Best CashBack Credit Card\\n\\n5% Cashback on Amazon, BookMyShow, Cult.fit, Flipkart, Myntra, Sony LIV, Swiggy, Tata CLiQ, Uber and Zomato\\n\\n1% cashback on all other spends (except Fuel) including EMI & Wallet transactions\\n\\n₹1000 worth gift vouchers on spends of ₹1,00,000 and above in each calendar quarter\\n\\nAPPLY ONLINE APPLY ONLINE Know more Know more\\n\\nIndianOil HDFC Bank Credit Card\\n\\nIndianOil HDFC Bank Credit CardCo-Brand\\n\\nFuel Benefits. Ready For You.\\n\\nEarn up to 50 Liters of Free fuel annually\\n\\nEarn 5% of your spends as Fuel Points at IndianOil outlets, Groceries and Bill Payments.\\n\\nEarn 1 Fuel Point for every Rs. 150 spent on all other purchases\\n\\nEnjoy 1% Fuel Surcharge waiver')],\n",
       " 'answer': 'The Millennia Credit Card offers 5% cashback on Amazon, BookMyShow, Cult.fit, Flipkart, Myntra, Sony LIV, Swiggy, Tata CLiQ, Uber, and Zomato. It provides 1% cashback on all other spends, excluding fuel, including EMI and wallet transactions. Additionally, cardholders can receive gift vouchers worth up to ₹2000 annually based on their spending.'}"
      ]
     },
     "execution_count": 21,
     "metadata": {},
     "output_type": "execute_result"
    }
   ],
   "source": [
    "ai_msg_1"
   ]
  },
  {
   "cell_type": "code",
   "execution_count": 22,
   "metadata": {},
   "outputs": [],
   "source": [
    "question = \" Explain about more please \"\n",
    "ai_msg_1 = rag_chain.invoke({\"input\": question, \"chat_history\": chat_history})\n"
   ]
  },
  {
   "cell_type": "code",
   "execution_count": 23,
   "metadata": {},
   "outputs": [
    {
     "data": {
      "text/plain": [
       "{'input': ' Explain about more please ',\n",
       " 'chat_history': [],\n",
       " 'context': [Document(metadata={'source': 'https://www.hdfcbank.com/personal/pay/cards/credit-cards'}, page_content='Know More Know More\\n\\nLifestyle\\n\\nLifestyle\\n\\nEnjoy a life more rewarding with inspired choices and luxurious indulgences that are ready for you.\\n\\nfalse\\n\\nRegalia Gold Credit Card\\n\\nRegalia Gold Credit CardSuper Premium\\n\\nExperience the Golden Side Of Life\\n\\nComplimentary Club Vistara Silver Tier and MMT Black Elite membership as Welcome benefits.\\n\\n₹ 1,500 worth vouchers on quarterly spends of Rs. 1.5 lakh\\n\\n₹ 5,000 worth flight vouchers on annual spends of Rs. 5 lakh and Rs. 7.5 lakhs.\\n\\n5X Reward Points on spends at Marks & Spencer, Myntra, Nykaa & Reliance Digital!\\n\\nApply Online Apply Online KNOW MORE KNOW MORE\\n\\nMillennia Credit Card\\n\\nMillennia Credit Card\\n\\nThe Best CashBack Credit Card\\n\\n5% Cashback on Amazon, BookMyShow, Cult.fit, Flipkart, Myntra, Sony LIV, Swiggy, Tata CLiQ, Uber and Zomato\\n\\n1% cashback on all other spends (except Fuel) including EMI & Wallet transactions\\n\\n₹1000 worth gift vouchers on spends of ₹1,00,000 and above in each calendar quarter'),\n",
       "  Document(metadata={'source': 'https://www.hdfcbank.com/personal/pay/cards/credit-cards'}, page_content='Know More Know More\\n\\nLifestyle\\n\\nLifestyle\\n\\nEnjoy a life more rewarding with inspired choices and luxurious indulgences that are ready for you.\\n\\nfalse\\n\\nRegalia Gold Credit Card\\n\\nRegalia Gold Credit CardSuper Premium\\n\\nExperience the Golden Side Of Life\\n\\nComplimentary Club Vistara Silver Tier and MMT Black Elite membership as Welcome benefits.\\n\\n₹ 1,500 worth vouchers on quarterly spends of Rs. 1.5 lakh\\n\\n₹ 5,000 worth flight vouchers on annual spends of Rs. 5 lakh and Rs. 7.5 lakhs.\\n\\n5X Reward Points on spends at Marks & Spencer, Myntra, Nykaa & Reliance Digital!\\n\\nApply Online Apply Online KNOW MORE KNOW MORE\\n\\nMillennia Credit Card\\n\\nMillennia Credit Card\\n\\nThe Best CashBack Credit Card\\n\\n5% Cashback on Amazon, BookMyShow, Cult.fit, Flipkart, Myntra, Sony LIV, Swiggy, Tata CLiQ, Uber and Zomato\\n\\n1% cashback on all other spends (except Fuel) including EMI & Wallet transactions\\n\\n₹1000 worth gift vouchers on spends of ₹1,00,000 and above in each calendar quarter'),\n",
       "  Document(metadata={'source': 'https://www.hdfcbank.com/personal/pay/cards/credit-cards'}, page_content='Know More Know More\\n\\nLifestyle\\n\\nLifestyle\\n\\nEnjoy a life more rewarding with inspired choices and luxurious indulgences that are ready for you.\\n\\nfalse\\n\\nRegalia Gold Credit Card\\n\\nRegalia Gold Credit CardSuper Premium\\n\\nExperience the Golden Side Of Life\\n\\nComplimentary Club Vistara Silver Tier and MMT Black Elite membership as Welcome benefits.\\n\\n₹ 1,500 worth vouchers on quarterly spends of Rs. 1.5 lakh\\n\\n₹ 5,000 worth flight vouchers on annual spends of Rs. 5 lakh and Rs. 7.5 lakhs.\\n\\n5X Reward Points on spends at Marks & Spencer, Myntra, Nykaa & Reliance Digital!\\n\\nApply Online Apply Online KNOW MORE KNOW MORE\\n\\nMillennia Credit Card\\n\\nMillennia Credit Card\\n\\nThe Best CashBack Credit Card\\n\\n5% Cashback on Amazon, BookMyShow, Cult.fit, Flipkart, Myntra, Sony LIV, Swiggy, Tata CLiQ, Uber and Zomato\\n\\n1% cashback on all other spends (except Fuel) including EMI & Wallet transactions\\n\\n₹1000 worth gift vouchers on spends of ₹1,00,000 and above in each calendar quarter'),\n",
       "  Document(metadata={'source': 'https://www.icicibank.com/personal-banking/cards/credit-card'}, page_content='Get 15% instant discount on Tata CLiQ Palette mobile app (https://tatacliq-palette.onelink.me/93PU/75wj3kdb), and Tata CLiQ e-commerce site (www.tatacliq.com), respective Mobile site and Mobile application\\n\\nACTIVATE NOW KNOW MORE\\n\\nAvail Rs 5,000 Instant Discount On Croma\\n\\nGet and instant discount of Rs 5,000 at any Croma Retail Store PAN India or Croma Website\\n\\nACTIVATE NOW KNOW MORE\\n\\nGrab Exciting Offers At Croma With Your ICICI Bank Credit/Debit Cards!\\n\\nOffer is applicable on Credit and Debit Card Full Swipe transactions and also on Credit and Debit Card EMI Transactions\\n\\nACTIVATE NOW KNOW MORE\\n\\nGet Flat Rs 100 Off On Zomato\\n\\nFlat Rs 100 off on a minimum order of Rs 499 <(applicable for new customers)\\n\\nUse coupon code ‘ICICINEW’, valid once per card, per month\\n\\nACTIVATE NOW KNOW MORE\\n\\nCredit Card Related Blogs\\n\\nWhat is a Loan on a Credit Card and How Does it Work\\n\\n08 Aug, 2024\\n\\n2 min read\\n\\nHow to Create Credit Card PIN Online?\\n\\n20 Jul, 2024\\n\\n2 min read')],\n",
       " 'answer': 'The context provided contains information about two credit cards offered by ICICI Bank: the Regalia Gold Credit Card and the Millennia Credit Card. The Regalia Gold Credit Card offers benefits like complimentary Club Vistara Silver Tier membership, flight vouchers, and 5X reward points on specific categories. On the other hand, the Millennia Credit Card is a cashback credit card that provides 5% cashback on select merchants, 1% cashback on other spends, and gift vouchers based on quarterly spends.'}"
      ]
     },
     "execution_count": 23,
     "metadata": {},
     "output_type": "execute_result"
    }
   ],
   "source": [
    "ai_msg_1"
   ]
  },
  {
   "cell_type": "code",
   "execution_count": 25,
   "metadata": {},
   "outputs": [
    {
     "name": "stdout",
     "output_type": "stream",
     "text": [
      "The context provided contains information about two credit cards offered by ICICI Bank: the Regalia Gold Credit Card and the Millennia Credit Card. The Regalia Gold Credit Card offers benefits like complimentary Club Vistara Silver Tier membership, flight vouchers, and 5X reward points on specific categories. On the other hand, the Millennia Credit Card is a cashback credit card that provides 5% cashback on select merchants, 1% cashback on other spends, and gift vouchers based on quarterly spends.\n"
     ]
    }
   ],
   "source": [
    "print(ai_msg_1['answer'])"
   ]
  },
  {
   "cell_type": "code",
   "execution_count": 26,
   "metadata": {},
   "outputs": [],
   "source": [
    "question = \" Explain clearly beacuse i cant get it \"\n",
    "ai_msg_1 = rag_chain.invoke({\"input\": question, \"chat_history\": chat_history})"
   ]
  },
  {
   "cell_type": "code",
   "execution_count": 27,
   "metadata": {},
   "outputs": [
    {
     "data": {
      "text/plain": [
       "{'input': ' Explain clearly beacuse i cant get it ',\n",
       " 'chat_history': [],\n",
       " 'context': [Document(metadata={'source': 'https://www.icicibank.com/personal-banking/cards/credit-card'}, page_content='A Credit Card is a payment card that allows you to make purchases without immediate payment. It is widely accepted and you need not carry cash with you always. Your bank issues this card based on your income and other eligibility criteria. They set a limit on how much you can spend. However, you have to pay back the amount you spend within a specific time. If you are late in making the payment, you will have to pay the interest along with some additional charges.\\n\\nBenefits of a credit card are:\\n\\nUniversal payment acceptance\\n\\nEarn reward points or cashback for every retail spend using ICICI Bank Credit Card\\n\\nEnjoy credit free payments up to a maximum of <48> days including the due date\\n\\nFuel surcharge waiver\\n\\nExciting discount offers on dining out and movie tickets\\n\\nComplimentary lounge accesses\\n\\nBuild a credit history etc.'),\n",
       "  Document(metadata={'source': 'https://www.icicibank.com/personal-banking/cards/credit-card'}, page_content='A Credit Card is a payment card that allows you to make purchases without immediate payment. It is widely accepted and you need not carry cash with you always. Your bank issues this card based on your income and other eligibility criteria. They set a limit on how much you can spend. However, you have to pay back the amount you spend within a specific time. If you are late in making the payment, you will have to pay the interest along with some additional charges.\\n\\nBenefits of a credit card are:\\n\\nUniversal payment acceptance\\n\\nEarn reward points or cashback for every retail spend using ICICI Bank Credit Card\\n\\nEnjoy credit free payments up to a maximum of <48> days including the due date\\n\\nFuel surcharge waiver\\n\\nExciting discount offers on dining out and movie tickets\\n\\nComplimentary lounge accesses\\n\\nBuild a credit history etc.'),\n",
       "  Document(metadata={'source': 'https://www.icicibank.com/personal-banking/cards/credit-card'}, page_content='A Credit Card is a payment card that allows you to make purchases without immediate payment. It is widely accepted and you need not carry cash with you always. Your bank issues this card based on your income and other eligibility criteria. They set a limit on how much you can spend. However, you have to pay back the amount you spend within a specific time. If you are late in making the payment, you will have to pay the interest along with some additional charges.\\n\\nBenefits of a credit card are:\\n\\nUniversal payment acceptance\\n\\nEarn reward points or cashback for every retail spend using ICICI Bank Credit Card\\n\\nEnjoy credit free payments up to a maximum of <48> days including the due date\\n\\nFuel surcharge waiver\\n\\nExciting discount offers on dining out and movie tickets\\n\\nComplimentary lounge accesses\\n\\nBuild a credit history etc.'),\n",
       "  Document(metadata={'source': 'https://www.icicibank.com/personal-banking/cards/credit-card'}, page_content='A Credit Card balance is the available balance from the sanctioned credit amount, which a Cardholder can use to purchase goods through the following methods: Online, Point of Sale, Cash Withdrawal etc.\\n\\nA Credit Card Statement is a summary of spends and payments made through the Credit Card during the specific period of credit cycle.\\n\\nReward Points are awarded against retail purchases on your ICICI Bank Credit Card, which may differ between cards. It can be redeemed on our reward platform.\\n\\nYou can activate your Credit Card for International transactions through iMobile Pay or Retail Internet Banking (RIB).\\n\\nICICI Bank offers a varied range of Gemstone and Co-branded Credit Cards which fulfils your day-to-day expenditure requirement along with exciting offers and discounts on selective range of products throughout the year.')],\n",
       " 'answer': \"A Credit Card is a payment card that allows you to make purchases without immediate payment. Your bank sets a spending limit, and you must pay back what you spend within a specific time. If you're late, you'll have to pay interest and extra charges. Benefits include universal acceptance, reward points, and discounts on dining and movies.\\n\\nA Credit Card balance is the available amount you can spend from your credit limit. The statement summarizes your card activity for a specific period. Reward Points are earned for purchases and can be redeemed. You can activate international transactions on your card through the bank's app or online banking. ICICI Bank offers various credit cards with different benefits.\"}"
      ]
     },
     "execution_count": 27,
     "metadata": {},
     "output_type": "execute_result"
    }
   ],
   "source": [
    "ai_msg_1"
   ]
  },
  {
   "cell_type": "code",
   "execution_count": 1,
   "metadata": {},
   "outputs": [],
   "source": [
    "#MongoDB Connection String : mongodb://localhost:27017/\n",
    "\n",
    "from langchain_mongodb.chat_message_histories import MongoDBChatMessageHistory\n",
    "\n",
    "chat_message_history = MongoDBChatMessageHistory(\n",
    "    session_id = \"demo_session_id\",\n",
    "    connection_string = \"mongodb://localhost:27017/\",\n",
    "    database_name = \"AIdemo\",\n",
    "    collection_name = \"chat_histories\" \n",
    ")\n",
    "\n",
    "# Add a new chat message to the history\n",
    "\n",
    "chat_message_history.add_user_message(\"Hello\")\n",
    "chat_message_history.add_ai_message(\"Hello How can i help you?\")\n",
    "    "
   ]
  },
  {
   "cell_type": "code",
   "execution_count": 2,
   "metadata": {},
   "outputs": [
    {
     "data": {
      "text/plain": [
       "[HumanMessage(content='Hello', additional_kwargs={}, response_metadata={}),\n",
       " AIMessage(content='Hello How can i help you?', additional_kwargs={}, response_metadata={})]"
      ]
     },
     "execution_count": 2,
     "metadata": {},
     "output_type": "execute_result"
    }
   ],
   "source": [
    "chat_message_history.messages"
   ]
  },
  {
   "cell_type": "code",
   "execution_count": 3,
   "metadata": {},
   "outputs": [],
   "source": [
    "import os\n",
    "from langchain_openai import ChatOpenAI\n",
    "from langchain.prompts import ChatPromptTemplate,MessagesPlaceholder\n",
    "\n",
    "llm = ChatOpenAI(api_key=os.getenv(\"OPENAI_API_KEY\"))\n",
    "\n",
    "prompt = ChatPromptTemplate.from_messages(\n",
    "    [\n",
    "        (\n",
    "        \"system\",\"You are an helpfull assistent answer the user question.if you dont know the answer please ask user to provide more information ,dont make anything more complicated\"\n",
    "        ),\n",
    "        MessagesPlaceholder(variable_name=\"chat_history\"),\n",
    "        (\"human\",\"{question}\"),\n",
    "    ]\n",
    ")\n",
    "\n",
    "chain = prompt | llm\n",
    "\n"
   ]
  },
  {
   "cell_type": "code",
   "execution_count": 6,
   "metadata": {},
   "outputs": [],
   "source": [
    "from langchain_core.runnables.history import RunnableWithMessageHistory\n",
    "from langchain_mongodb.chat_message_histories import MongoDBChatMessageHistory\n",
    "\n",
    "chain_with_history = RunnableWithMessageHistory(\n",
    "    chain,\n",
    "    lambda session_id :MongoDBChatMessageHistory(\n",
    "        session_id = session_id,\n",
    "        connection_string = \"mongodb://localhost:27017/\",\n",
    "        database_name = \"AIdemo\",\n",
    "        collection_name = \"chat_histories\"  # replace with your collection name\n",
    "    ),\n",
    "    input_messages_key=\"question\",\n",
    "    history_messages_key=\"chat_history\"\n",
    "\n",
    ")\n",
    "\n"
   ]
  },
  {
   "cell_type": "code",
   "execution_count": 13,
   "metadata": {},
   "outputs": [
    {
     "data": {
      "text/plain": [
       "RunnableWithMessageHistory(bound=RunnableBinding(bound=RunnableBinding(bound=RunnableAssign(mapper={\n",
       "  chat_history: RunnableBinding(bound=RunnableLambda(_enter_history), kwargs={}, config={'run_name': 'load_history'}, config_factories=[])\n",
       "}), kwargs={}, config={'run_name': 'insert_history'}, config_factories=[])\n",
       "| RunnableBinding(bound=RunnableLambda(_call_runnable_sync), kwargs={}, config={'run_name': 'check_sync_or_async'}, config_factories=[]), kwargs={}, config={'run_name': 'RunnableWithMessageHistory'}, config_factories=[]), kwargs={}, config={}, config_factories=[], get_session_history=<function <lambda> at 0x000001DAC757C310>, input_messages_key='question', history_messages_key='chat_history', history_factory_config=[ConfigurableFieldSpec(id='session_id', annotation=<class 'str'>, name='Session ID', description='Unique identifier for a session.', default='', is_shared=True, dependencies=None)])"
      ]
     },
     "execution_count": 13,
     "metadata": {},
     "output_type": "execute_result"
    }
   ],
   "source": [
    "chain_with_history"
   ]
  },
  {
   "cell_type": "code",
   "execution_count": 9,
   "metadata": {},
   "outputs": [
    {
     "data": {
      "text/plain": [
       "AIMessage(content='Hello Karuppasamy! How can I assist you today?', additional_kwargs={'refusal': None}, response_metadata={'token_usage': {'completion_tokens': 13, 'prompt_tokens': 378, 'total_tokens': 391, 'completion_tokens_details': {'audio_tokens': 0, 'reasoning_tokens': 0, 'accepted_prediction_tokens': 0, 'rejected_prediction_tokens': 0}, 'prompt_tokens_details': {'audio_tokens': 0, 'cached_tokens': 0}}, 'model_name': 'gpt-3.5-turbo-0125', 'system_fingerprint': None, 'finish_reason': 'stop', 'logprobs': None}, id='run-b95524df-e9d1-4415-9d36-a865daf534f7-0', usage_metadata={'input_tokens': 378, 'output_tokens': 13, 'total_tokens': 391, 'input_token_details': {'audio': 0, 'cache_read': 0}, 'output_token_details': {'audio': 0, 'reasoning': 0}})"
      ]
     },
     "execution_count": 9,
     "metadata": {},
     "output_type": "execute_result"
    }
   ],
   "source": [
    "config = {\"configurable\" : {\"session_id\":\"demo_session_id\"}}\n",
    "\n",
    "\n",
    "user_prompt = \"Hi  i am karuppasamy\"\n",
    "# if you want to get instant response from ai user stream instead of invoke\n",
    "chain_with_history.invoke({\"question\" : user_prompt},config = config)"
   ]
  },
  {
   "cell_type": "code",
   "execution_count": null,
   "metadata": {},
   "outputs": [],
   "source": []
  },
  {
   "cell_type": "code",
   "execution_count": 12,
   "metadata": {},
   "outputs": [],
   "source": [
    "config = {\"configurable\" : {\"session_id\":\"demo_session_id\"}}\n",
    "\n",
    "\n",
    "user_prompt = \"Write simple linearn Regression code\"\n",
    "# if you want to get instant response from ai user stream instead of invoke\n",
    "response = chain_with_history.invoke({\"question\" : user_prompt},config = config)"
   ]
  },
  {
   "cell_type": "code",
   "execution_count": 14,
   "metadata": {},
   "outputs": [
    {
     "data": {
      "text/plain": [
       "'Here is a simple example of linear regression code in Python using the scikit-learn library:\\n\\n```python\\nimport numpy as np\\nfrom sklearn.linear_model import LinearRegression\\n\\n# Sample data\\nX = np.array([[1], [2], [3], [4]])\\ny = np.array([2, 4, 6, 8])\\n\\n# Create a linear regression model\\nmodel = LinearRegression()\\n\\n# Fit the model to the data\\nmodel.fit(X, y)\\n\\n# Predict the output\\nX_new = np.array([[5]])\\ny_pred = model.predict(X_new)\\n\\nprint(\"Predicted output:\", y_pred)\\n```\\n\\nThis code creates a simple linear regression model using the `LinearRegression` class from scikit-learn, fits the model to the data, and makes a prediction for a new input value.'"
      ]
     },
     "execution_count": 14,
     "metadata": {},
     "output_type": "execute_result"
    }
   ],
   "source": [
    "response.content"
   ]
  },
  {
   "cell_type": "code",
   "execution_count": 15,
   "metadata": {},
   "outputs": [],
   "source": [
    "config = {\"configurable\" : {\"session_id\":\"demo_session_id\"}}\n",
    "\n",
    "\n",
    "user_prompt = \"Explain this code in theory way so that ican understand\"\n",
    "# if you want to get instant response from ai user stream instead of invoke\n",
    "linercode_response = chain_with_history.invoke({\"question\" : user_prompt},config = config)"
   ]
  },
  {
   "cell_type": "code",
   "execution_count": 17,
   "metadata": {},
   "outputs": [
    {
     "data": {
      "text/plain": [
       "'This code demonstrates a simple linear regression model using the scikit-learn library in Python. Here is an explanation of each step:\\n\\n1. Import necessary libraries: The code first imports the required libraries. `numpy` is used for numerical operations, and `LinearRegression` from `sklearn.linear_model` is used to create a linear regression model.\\n\\n2. Define sample data: The code creates sample data for the independent variable `X` and the dependent variable `y`. In this case, `X` contains values `[1, 2, 3, 4]` and `y` contains corresponding output values `[2, 4, 6, 8]`.\\n\\n3. Create a linear regression model: A linear regression model is created using the `LinearRegression()` function, which initializes an instance of the linear regression model.\\n\\n4. Fit the model to the data: The `fit()` method is used to train the model on the sample data. It learns the relationship between the input variable `X` and the output variable `y` to make predictions.\\n\\n5. Make a prediction: A new input value `X_new = 5` is created, and the `predict()` method is used to predict the output value (`y_pred`) based on the trained model. The predicted output is printed to the console.\\n\\nIn summary, this code demonstrates how to create a simple linear regression model, train it with sample data, and make predictions based on the learned relationship between the input and output variables.'"
      ]
     },
     "execution_count": 17,
     "metadata": {},
     "output_type": "execute_result"
    }
   ],
   "source": [
    "linercode_response.content"
   ]
  },
  {
   "cell_type": "code",
   "execution_count": null,
   "metadata": {},
   "outputs": [],
   "source": []
  }
 ],
 "metadata": {
  "kernelspec": {
   "display_name": "RagLLM",
   "language": "python",
   "name": "python3"
  },
  "language_info": {
   "codemirror_mode": {
    "name": "ipython",
    "version": 3
   },
   "file_extension": ".py",
   "mimetype": "text/x-python",
   "name": "python",
   "nbconvert_exporter": "python",
   "pygments_lexer": "ipython3",
   "version": "3.10.15"
  }
 },
 "nbformat": 4,
 "nbformat_minor": 2
}
